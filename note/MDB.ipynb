{
 "cells": [
  {
   "cell_type": "code",
   "execution_count": 1,
   "id": "00d8a480-e85c-4514-ad9e-ade753ac2142",
   "metadata": {},
   "outputs": [],
   "source": [
    "import numpy as np\n",
    "import arepo\n",
    "import matplotlib.pyplot as plt\n",
    "from scipy.signal import savgol_filter\n",
    "from tqdm import tqdm\n",
    "import matplotlib as mpl\n",
    "from scipy.stats import binned_statistic_2d, binned_statistic\n",
    "from numba import njit\n",
    "import h5py as h5\n",
    "\n",
    "import astropy.units as u\n",
    "\n",
    "from joblib import Parallel, delayed\n",
    "from lowda import load_galaxy\n",
    "import lowda as lwd"
   ]
  },
  {
   "cell_type": "code",
   "execution_count": 2,
   "id": "68c8e5b1-0f53-4971-8c21-5a729de7e092",
   "metadata": {},
   "outputs": [],
   "source": [
    "import illustris_python as il\n",
    "TNGbase = '/n/holylfs05/LABS/hernquist_lab/IllustrisTNG/Runs/L35n2160TNG/output/'"
   ]
  },
  {
   "cell_type": "code",
   "execution_count": 3,
   "id": "287d0126-e40d-476f-a86d-20104be7b446",
   "metadata": {},
   "outputs": [],
   "source": [
    "def get_time(time, redshift=False, \n",
    "             Omega0=0.3089, \n",
    "             OmegaLambda=0.6911,\n",
    "             HubbleParam=0.6774):\n",
    "    HUBBLE = 3.2407789e-18\n",
    "    SEC_PER_MEGAYEAR = 3.15576e13\n",
    "    \n",
    "    if redshift:\n",
    "        a = 1./(1.+time)\n",
    "    else:\n",
    "        a = time\n",
    "    \n",
    "    fac = 2. / (3. * np.sqrt(OmegaLambda))\n",
    "    ans = fac * np.arcsinh(np.sqrt(a**3 * OmegaLambda/Omega0))\n",
    "\n",
    "    ans /= HUBBLE * HubbleParam\n",
    "    ans /= SEC_PER_MEGAYEAR * 1000\n",
    "    \n",
    "    return ans"
   ]
  },
  {
   "cell_type": "code",
   "execution_count": 4,
   "id": "13fa274d-162b-4aa4-898c-2142f9221d07",
   "metadata": {},
   "outputs": [],
   "source": [
    "meta = {}\n",
    "meta['snap_list'] = np.arange(100)\n",
    "meta['header'] = []\n",
    "meta['redshift'] = []\n",
    "meta['scale_factor'] = []\n",
    "meta['time'] = []\n",
    "meta['time_lookback'] = []\n",
    "\n",
    "t0 = get_time(1.)\n",
    "\n",
    "for i in meta['snap_list']:\n",
    "    header = arepo.Snapshot(TNGbase, i, onlyHeader=True)\n",
    "    \n",
    "    meta['header'].append(header)\n",
    "    meta['redshift'].append(header.Redshift)\n",
    "    meta['scale_factor'].append(header.Time)\n",
    "    meta['time'].append(get_time(header.Time))\n",
    "    meta['time_lookback'].append(t0 - get_time(header.Time))\n",
    "\n",
    "meta['redshift'] = np.array(meta['redshift'])\n",
    "meta['scale_factor'] = np.array(meta['scale_factor'])\n",
    "meta['time'] = np.array(meta['time'])\n",
    "meta['time_lookback'] = np.array(meta['time_lookback'])"
   ]
  },
  {
   "cell_type": "code",
   "execution_count": 5,
   "id": "223eecc9-4297-423a-8f0c-8a0cc0f0bde7",
   "metadata": {},
   "outputs": [
    {
     "name": "stdout",
     "output_type": "stream",
     "text": [
      "snapnum= 40\n",
      "z= 1.4955121664955557\n",
      "tuniv= 4.292907980150009\n"
     ]
    }
   ],
   "source": [
    "snapnum = 40\n",
    "z = meta['redshift'][snapnum]\n",
    "tuniv = meta['time'][snapnum]\n",
    "\n",
    "print('snapnum=', snapnum)\n",
    "print('z=', z)\n",
    "print('tuniv=', tuniv)"
   ]
  },
  {
   "cell_type": "code",
   "execution_count": 6,
   "id": "56e51e7c-a13c-4ff1-b65a-9256fd2fe6f6",
   "metadata": {},
   "outputs": [],
   "source": [
    "subID = 172175\n",
    "MDB = il.sublink.loadTree(TNGbase, snapnum, subID, onlyMDB=True)"
   ]
  },
  {
   "cell_type": "code",
   "execution_count": 14,
   "id": "4954112d-01ef-4bdf-8b90-051ea7390da9",
   "metadata": {},
   "outputs": [
    {
     "name": "stdout",
     "output_type": "stream",
     "text": [
      "DescendantID -1\n",
      "FirstProgenitorID 146896549\n",
      "FirstSubhaloInFOFGroupID 146896548\n",
      "GroupBHMass 0.035397273\n",
      "GroupBHMdot 0.00026960552\n",
      "GroupFirstSub 392276\n",
      "GroupGasMetallicity 0.0063437503\n",
      "GroupLen 17802778\n",
      "GroupMass 386.20435\n",
      "GroupNsubs 2345\n",
      "GroupSFR 8.183293\n",
      "GroupStarMetallicity 0.021114947\n",
      "GroupWindMass 0.009473496\n",
      "Group_M_Crit200 268.08185\n",
      "Group_M_Crit500 174.77962\n",
      "Group_M_Mean200 336.63205\n",
      "Group_M_TopHat200 307.354\n",
      "Group_R_Crit200 225.93253\n",
      "Group_R_Crit500 144.34335\n",
      "Group_R_Mean200 360.56927\n",
      "Group_R_TopHat200 295.625\n",
      "LastProgenitorID 147022639\n",
      "MainLeafProgenitorID 146896647\n",
      "Mass 197.65404\n",
      "MassHistory 9164.606\n",
      "NextProgenitorID -1\n",
      "NextSubhaloInFOFGroupID 147022640\n",
      "NumParticles 6430540\n",
      "RootDescendantID 146896548\n",
      "SnapNum 99\n",
      "SubfindID 392276\n",
      "SubhaloBHMass 0.019873647\n",
      "SubhaloBHMdot 1.4251465e-05\n",
      "SubhaloGasMetallicity 0.012886952\n",
      "SubhaloGasMetallicityHalfRad 0.018185813\n",
      "SubhaloGasMetallicityMaxRad 0.0\n",
      "SubhaloGasMetallicitySfr 0.012008177\n",
      "SubhaloGasMetallicitySfrWeighted 0.012058863\n",
      "SubhaloGrNr 46\n",
      "SubhaloHalfmassRad 88.483086\n",
      "SubhaloID 146896548\n",
      "SubhaloIDMostbound 122284129459\n",
      "SubhaloIDRaw 99000000392276\n",
      "SubhaloLen 9200534\n",
      "SubhaloMass 211.302\n",
      "SubhaloMassInHalfRad 4.5892453\n",
      "SubhaloMassInMaxRad 2.5419223\n",
      "SubhaloMassInRad 8.226056\n",
      "SubhaloParent 0\n",
      "SubhaloSFR 0.5620243\n",
      "SubhaloSFRinHalfRad 0.0\n",
      "SubhaloSFRinMaxRad 0.0\n",
      "SubhaloSFRinRad 0.07796585\n",
      "SubhaloStarMetallicity 0.030801969\n",
      "SubhaloStarMetallicityHalfRad 0.036402903\n",
      "SubhaloStarMetallicityMaxRad 0.042935625\n",
      "SubhaloStellarPhotometricsMassInRad 4.897371\n",
      "SubhaloStellarPhotometricsRad 5.355503\n",
      "SubhaloVelDisp 146.26602\n",
      "SubhaloVmax 326.25024\n",
      "SubhaloVmaxRad 1.0273614\n",
      "SubhaloWindMass 0.0009574694\n",
      "TreeID 0\n"
     ]
    }
   ],
   "source": [
    "for k in MDB.keys():\n",
    "    if MDB[k].shape == MDB['SnapNum'].shape:\n",
    "        print(k, MDB[k][0])"
   ]
  },
  {
   "cell_type": "code",
   "execution_count": 17,
   "id": "fc8e8842-3310-4c71-9001-9464ed536cb4",
   "metadata": {},
   "outputs": [
    {
     "data": {
      "image/png": "[encoded data removed]",
      "text/plain": [
       "<Figure size 640x480 with 1 Axes>"
      ]
     },
     "metadata": {},
     "output_type": "display_data"
    }
   ],
   "source": [
    "time = meta['time'][MDB['SnapNum']]\n",
    "plt.plot(time, MDB['Group_M_Crit200']/0.67)\n",
    "plt.yscale('log')"
   ]
  },
  {
   "cell_type": "code",
   "execution_count": 23,
   "id": "56150f1c-c816-421f-8db9-b0e17cfb801b",
   "metadata": {},
   "outputs": [
    {
     "name": "stdout",
     "output_type": "stream",
     "text": [
      "M200= 395.7511782470199\n"
     ]
    }
   ],
   "source": [
    "h = meta['header'][99].HubbleParam\n",
    "print('M200=', MDB['Group_M_Crit200'][0]/h)"
   ]
  },
  {
   "cell_type": "code",
   "execution_count": 21,
   "id": "27797536-3959-4bc1-8578-ee2e4c9100bc",
   "metadata": {},
   "outputs": [
    {
     "data": {
      "text/plain": [
       "0.6774"
      ]
     },
     "execution_count": 21,
     "metadata": {},
     "output_type": "execute_result"
    }
   ],
   "source": [
    "h = meta['header'][99].HubbleParam"
   ]
  },
  {
   "cell_type": "code",
   "execution_count": 24,
   "id": "b5d39acc-b0e2-4d8f-8396-4fb044c999d2",
   "metadata": {},
   "outputs": [],
   "source": [
    "subID = 392276\n",
    "snapnum = 99\n",
    "fields = ['Coordinates', 'Masses', 'GFM_StellarFormationTime', 'GFM_Metals']\n",
    "snap = il.snapshot.loadSubhalo(TNGbase, snapnum, subID, 4, fields=fields)\n",
    "sub = il.groupcat.loadSingle(TNGbase, snapnum, subhaloID=subID)"
   ]
  },
  {
   "cell_type": "code",
   "execution_count": 39,
   "id": "68af0f43-d655-411a-bb0c-d6384eb17877",
   "metadata": {},
   "outputs": [
    {
     "name": "stdout",
     "output_type": "stream",
     "text": [
      "7.990156967167591\n"
     ]
    }
   ],
   "source": [
    "r = np.linalg.norm(snap['Coordinates'] - sub['SubhaloPos'], axis=1)\n",
    "in_2rhalf = r < 6*sub['SubhaloHalfmassRadType'][4]\n",
    "print(np.sum(snap['Masses'][in_2rhalf])/h)"
   ]
  },
  {
   "cell_type": "code",
   "execution_count": null,
   "id": "c669ef11-0461-4088-b502-74dcaff28964",
   "metadata": {},
   "outputs": [],
   "source": []
  }
 ],
 "metadata": {
  "kernelspec": {
   "display_name": "note",
   "language": "python",
   "name": "note"
  },
  "language_info": {
   "codemirror_mode": {
    "name": "ipython",
    "version": 3
   },
   "file_extension": ".py",
   "mimetype": "text/x-python",
   "name": "python",
   "nbconvert_exporter": "python",
   "pygments_lexer": "ipython3",
   "version": "3.10.13"
  }
 },
 "nbformat": 4,
 "nbformat_minor": 5
}
