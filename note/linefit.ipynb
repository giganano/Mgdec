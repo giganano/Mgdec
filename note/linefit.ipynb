{
 "cells": [
  {
   "cell_type": "code",
   "execution_count": 10,
   "id": "9334258b-a263-4c47-b48a-d8ed7a49a222",
   "metadata": {},
   "outputs": [],
   "source": [
    "import numpy as np\n",
    "import arepo\n",
    "import matplotlib.pyplot as plt\n",
    "from scipy.signal import savgol_filter\n",
    "from tqdm import tqdm\n",
    "import matplotlib as mpl\n",
    "from scipy.stats import binned_statistic_2d, binned_statistic, linregress\n",
    "from numba import njit\n",
    "import h5py as h5\n",
    "\n",
    "import astropy.units as u\n",
    "\n",
    "from joblib import Parallel, delayed\n",
    "from lowda import load_galaxy\n",
    "import lowda as lwd\n",
    "\n",
    "import illustris_python as il\n",
    "TNGbase = '/n/holylfs05/LABS/hernquist_lab/IllustrisTNG/Runs/L35n2160TNG/output/'"
   ]
  },
  {
   "cell_type": "code",
   "execution_count": 3,
   "id": "c9ad3652-ed67-40de-85f4-c9b71e4a15ab",
   "metadata": {},
   "outputs": [],
   "source": [
    "def get_time(time, redshift=False, \n",
    "             Omega0=0.3089, \n",
    "             OmegaLambda=0.6911,\n",
    "             HubbleParam=0.6774):\n",
    "    HUBBLE = 3.2407789e-18\n",
    "    SEC_PER_MEGAYEAR = 3.15576e13\n",
    "    \n",
    "    if redshift:\n",
    "        a = 1./(1.+time)\n",
    "    else:\n",
    "        a = time\n",
    "    \n",
    "    fac = 2. / (3. * np.sqrt(OmegaLambda))\n",
    "    ans = fac * np.arcsinh(np.sqrt(a**3 * OmegaLambda/Omega0))\n",
    "\n",
    "    ans /= HUBBLE * HubbleParam\n",
    "    ans /= SEC_PER_MEGAYEAR * 1000\n",
    "    \n",
    "    return ans"
   ]
  },
  {
   "cell_type": "code",
   "execution_count": 4,
   "id": "4984dce0-d54b-47b3-b35f-ddab4d036a41",
   "metadata": {},
   "outputs": [],
   "source": [
    "meta = {}\n",
    "meta['snap_list'] = np.arange(100)\n",
    "meta['header'] = []\n",
    "meta['redshift'] = []\n",
    "meta['scale_factor'] = []\n",
    "meta['time'] = []\n",
    "meta['time_lookback'] = []\n",
    "\n",
    "t0 = get_time(1.)\n",
    "\n",
    "for i in meta['snap_list']:\n",
    "    header = arepo.Snapshot(TNGbase, i, onlyHeader=True)\n",
    "    \n",
    "    meta['header'].append(header)\n",
    "    meta['redshift'].append(header.Redshift)\n",
    "    meta['scale_factor'].append(header.Time)\n",
    "    meta['time'].append(get_time(header.Time))\n",
    "    meta['time_lookback'].append(t0 - get_time(header.Time))\n",
    "\n",
    "meta['redshift'] = np.array(meta['redshift'])\n",
    "meta['scale_factor'] = np.array(meta['scale_factor'])\n",
    "meta['time'] = np.array(meta['time'])\n",
    "meta['time_lookback'] = np.array(meta['time_lookback'])"
   ]
  },
  {
   "cell_type": "code",
   "execution_count": 5,
   "id": "9cb07f41-40f1-43bb-84f7-0b0751cf3c95",
   "metadata": {},
   "outputs": [
    {
     "name": "stdout",
     "output_type": "stream",
     "text": [
      "snapnum= 40\n",
      "z= 1.4955121664955557\n",
      "tuniv= 4.292907980150009\n"
     ]
    }
   ],
   "source": [
    "snapnum = 40\n",
    "z = meta['redshift'][snapnum]\n",
    "tuniv = meta['time'][snapnum]\n",
    "\n",
    "print('snapnum=', snapnum)\n",
    "print('z=', z)\n",
    "print('tuniv=', tuniv)"
   ]
  },
  {
   "cell_type": "code",
   "execution_count": 6,
   "id": "4ebdf666-41cc-46a8-aa92-91a64719f65a",
   "metadata": {},
   "outputs": [
    {
     "name": "stdout",
     "output_type": "stream",
     "text": [
      "CPU times: user 2.43 s, sys: 3.49 s, total: 5.92 s\n",
      "Wall time: 33.3 s\n"
     ]
    }
   ],
   "source": [
    "%%time\n",
    "sub_fields = ['SubhaloSFRinRad', 'SubhaloMassInRadType', 'SubhaloParent', \n",
    "              'SubhaloHalfmassRadType', 'SubhaloPos']\n",
    "subs = il.groupcat.loadSubhalos(TNGbase, snapnum, fields=sub_fields)\n",
    "\n",
    "halo_fields = ['GroupFirstSub', 'GroupMassType']\n",
    "halos = il.groupcat.loadHalos(TNGbase, snapnum, fields=halo_fields)"
   ]
  },
  {
   "cell_type": "code",
   "execution_count": 7,
   "id": "36fbe879-4b90-4cb1-a719-b9d50e5a4eec",
   "metadata": {},
   "outputs": [],
   "source": [
    "arr = halos['GroupFirstSub']\n",
    "arr = arr[arr >= 0]\n",
    "is_central = np.full(len(subs['SubhaloSFRinRad']), False)\n",
    "is_central[arr] = True\n",
    "\n",
    "stmass = subs['SubhaloMassInRadType'][:,4]\n",
    "logstmass = np.log10(1e10*stmass, where=stmass > 0)\n",
    "in_massband = np.logical_and(10 < logstmass, logstmass < 10.5)\n",
    "\n",
    "is_central_in_massband = np.logical_and(is_central, in_massband)\n",
    "subIDs = np.where(is_central_in_massband)[0]"
   ]
  },
  {
   "cell_type": "code",
   "execution_count": 42,
   "id": "bd13f34f-3e48-44a6-9d8b-32f7778c30f1",
   "metadata": {},
   "outputs": [],
   "source": [
    "def get_SFH(snapnum, subID, tbins, subs, logFeH0_list, rhalf_fac=2):\n",
    "    # load snap\n",
    "    fields = ['Coordinates', 'Masses', 'GFM_StellarFormationTime', 'GFM_Metals']\n",
    "    snap = il.snapshot.loadSubhalo(TNGbase, snapnum, subID, 4, fields=fields)\n",
    "    \n",
    "    # get tform and mass\n",
    "    tform = get_time(snap['GFM_StellarFormationTime'])\n",
    "    mass = snap['Masses']\n",
    "    \n",
    "    # get stars with rhalf_fac*rhalf of center\n",
    "    pos = snap['Coordinates'] - subs['SubhaloPos'][subID]\n",
    "    r = np.linalg.norm(pos, axis=1)\n",
    "    rhalf = subs['SubhaloHalfmassRadType'][subID,4]\n",
    "    key = np.logical_and(r < rhalf_fac * rhalf, snap['GFM_StellarFormationTime'] > 0)\n",
    "    \n",
    "    # get SFH\n",
    "    sfh = np.zeros((len(tbins)-1, len(logFeH0_list)+1))\n",
    "    \n",
    "    dt = tbins[1] - tbins[0]\n",
    "    sfh[:,0], edges = np.histogram(tform[key], bins=tbins, weights=10*mass[key]/dt)\n",
    "    \n",
    "    tcenter = 0.5 * (edges[1:] + edges[:-1])\n",
    "    \n",
    "    # now split by Fe, Mg\n",
    "    GFM_SOLAR_ABUNDANCE_HYDROGEN  = 0.7388\n",
    "    GFM_SOLAR_ABUNDANCE_MAGNESIUM = 0.0007\n",
    "    GFM_SOLAR_ABUNDANCE_IRON      = 0.0013\n",
    "    \n",
    "    FeH = snap['GFM_Metals'][:,8] / GFM_SOLAR_ABUNDANCE_IRON\n",
    "    MgH = snap['GFM_Metals'][:,6] / GFM_SOLAR_ABUNDANCE_MAGNESIUM\n",
    "    \n",
    "    logFeH = np.log10(FeH)\n",
    "    logMgH = np.log10(MgH)\n",
    "    logMgFe = logMgH - logFeH\n",
    "    \n",
    "    dlogFeH0 = 0.1\n",
    "    keys = []\n",
    "    for i,logFeH0 in enumerate(logFeH0_list):\n",
    "        in_FeH  = np.logical_and(logFeH > logFeH0 - dlogFeH0/2, logFeH < logFeH0 + dlogFeH0/2)\n",
    "        in_SN   = np.logical_and(r > rhalf, r < 2*rhalf)\n",
    "        is_star = snap['GFM_StellarFormationTime'] > 0\n",
    "        is_star_in_SN = np.logical_and(is_star, in_SN)\n",
    "        key_    = np.logical_and(np.logical_and(in_FeH, in_SN), is_star)\n",
    "        \n",
    "        sfh[:,i+1], edges = np.histogram(tform[key_], bins=tbins, weights=10*mass[key_]/dt/dlogFeH0)\n",
    "        \n",
    "        keys.append(key_)\n",
    "    \n",
    "    return tcenter, sfh, tform, logFeH, logMgFe, keys, is_star_in_SN\n"
   ]
  },
  {
   "cell_type": "code",
   "execution_count": 51,
   "id": "b0aaf7bc-6022-4f1c-ad71-80929da8c970",
   "metadata": {},
   "outputs": [],
   "source": [
    "def fit_line(subID, logFeH0_list):\n",
    "    t_snapnum = meta['time'][snapnum]\n",
    "    tbins = np.linspace(0, t_snapnum, 100)\n",
    "    \n",
    "    tcenter, sfh, tform, logFeH, logMgFe, keys, is_star_in_SN = \\\n",
    "        get_SFH(snapnum, subID, tbins, subs, logFeH0_list)\n",
    "    \n",
    "    m = np.zeros(len(keys)+1)\n",
    "    b = np.zeros(len(keys)+1)\n",
    "    r = np.zeros(len(keys)+1)\n",
    "    p = np.zeros(len(keys)+1)\n",
    "    \n",
    "    res = linregress(tform[is_star_in_SN], logMgFe[is_star_in_SN])\n",
    "    m[0] = res.slope\n",
    "    b[0] = res.intercept\n",
    "    r[0] = res.rvalue\n",
    "    p[0] = res.pvalue\n",
    "    \n",
    "    for i,key in enumerate(keys):\n",
    "        res = linregress(tform[key], logMgFe[key])\n",
    "    \n",
    "        m[i+1] = res.slope\n",
    "        b[i+1] = res.intercept\n",
    "        r[i+1] = res.rvalue\n",
    "        p[i+1] = res.pvalue\n",
    "    \n",
    "    return m, b, r, p\n",
    "    "
   ]
  },
  {
   "cell_type": "code",
   "execution_count": 52,
   "id": "a0767abc-b9d3-4c20-8876-abb6773b4d00",
   "metadata": {},
   "outputs": [
    {
     "name": "stderr",
     "output_type": "stream",
     "text": [
      "  0%|          | 0/168 [00:00<?, ?it/s]/tmp/ipykernel_3292230/4215798500.py:14: RuntimeWarning: invalid value encountered in sqrt\n",
      "  ans = fac * np.arcsinh(np.sqrt(a**3 * OmegaLambda/Omega0))\n",
      "100%|██████████| 168/168 [00:17<00:00,  9.64it/s]\n"
     ]
    }
   ],
   "source": [
    "logFeH0_list = [-0.75, -0.5, -0.25, 0]\n",
    "\n",
    "mlist = np.zeros((len(subIDs), len(logFeH0_list)+1), dtype=float)\n",
    "rlist = np.zeros((len(subIDs), len(logFeH0_list)+1), dtype=float)\n",
    "blist = np.zeros((len(subIDs), len(logFeH0_list)+1), dtype=float)\n",
    "plist = np.zeros((len(subIDs), len(logFeH0_list)+1), dtype=float)\n",
    "\n",
    "for i,subID in enumerate(tqdm(subIDs)):\n",
    "    mlist[i], blist[i], rlist[i], plist[i] = fit_line(subID, logFeH0_list)"
   ]
  },
  {
   "cell_type": "code",
   "execution_count": 64,
   "id": "69f3d7f5-5d31-477c-a44b-f95c15afc4d5",
   "metadata": {},
   "outputs": [
    {
     "data": {
      "text/plain": [
       "<matplotlib.legend.Legend at 0x1509d4259f30>"
      ]
     },
     "execution_count": 64,
     "metadata": {},
     "output_type": "execute_result"
    },
    {
     "data": {
      "image/png": "[encoded data removed]",
      "text/plain": [
       "<Figure size 640x480 with 1 Axes>"
      ]
     },
     "metadata": {},
     "output_type": "display_data"
    }
   ],
   "source": [
    "plt.hist(mlist[:,0], bins=np.linspace(-0.3, 0.3, 30+1), edgecolor='k', histtype='step', label='all')\n",
    "for i in range(len(logFeH0_list)):\n",
    "    plt.hist(mlist[:,i+1], bins=np.linspace(-0.3, 0.3, 30+1),\n",
    "             histtype='step', label=str(logFeH0_list[i]))\n",
    "\n",
    "plt.xlabel('slope [dex/Gyr]')\n",
    "plt.legend(frameon=False, title='logFeH_0')"
   ]
  },
  {
   "cell_type": "code",
   "execution_count": 54,
   "id": "7f98c287-6793-426e-baac-6730522adad5",
   "metadata": {},
   "outputs": [],
   "source": [
    "k = np.where(subIDs==172175)[0][0]"
   ]
  },
  {
   "cell_type": "code",
   "execution_count": 56,
   "id": "2fe2d884-d6ff-463f-8eba-2a6f65b36686",
   "metadata": {},
   "outputs": [
    {
     "data": {
      "text/plain": [
       "array([-0.10943691, -0.13287737, -0.11125245, -0.087497  , -0.05751178])"
      ]
     },
     "execution_count": 56,
     "metadata": {},
     "output_type": "execute_result"
    }
   ],
   "source": [
    "mlist[23]"
   ]
  },
  {
   "cell_type": "code",
   "execution_count": 58,
   "id": "ec74d324-e5da-48be-a2fc-d062a0ebc211",
   "metadata": {},
   "outputs": [
    {
     "data": {
      "text/plain": [
       "(array([ 4.,  7.,  9., 11., 19., 27., 36., 27., 21.,  7.]),\n",
       " array([0.27914385, 0.33278475, 0.38642565, 0.44006655, 0.49370745,\n",
       "        0.54734835, 0.60098925, 0.65463015, 0.70827105, 0.76191195,\n",
       "        0.81555285]),\n",
       " <BarContainer object of 10 artists>)"
      ]
     },
     "execution_count": 58,
     "metadata": {},
     "output_type": "execute_result"
    },
    {
     "data": {
      "image/png": "[encoded data removed]",
      "text/plain": [
       "<Figure size 640x480 with 1 Axes>"
      ]
     },
     "metadata": {},
     "output_type": "display_data"
    }
   ],
   "source": [
    "plt.hist(rlist[:,0]**2)"
   ]
  },
  {
   "cell_type": "code",
   "execution_count": 59,
   "id": "01d32d9b-d87a-439e-a9d6-806ab7f7076a",
   "metadata": {},
   "outputs": [
    {
     "data": {
      "image/png": "[encoded data removed]",
      "text/plain": [
       "<Figure size 640x480 with 1 Axes>"
      ]
     },
     "metadata": {},
     "output_type": "display_data"
    }
   ],
   "source": [
    "key = rlist[:,0]**2 > 0.6\n",
    "plt.hist(mlist[key,0], bins=np.linspace(-0.3, 0.3, 30+1), edgecolor='k', histtype='step')\n",
    "for i in range(len(logFeH0_list)):\n",
    "    key = rlist[:,i+1]**2 > 0.6\n",
    "    plt.hist(mlist[key,i+1], bins=np.linspace(-0.3, 0.3, 30+1), histtype='step')"
   ]
  },
  {
   "cell_type": "code",
   "execution_count": 60,
   "id": "d6ee173b-b17e-413e-affc-6b657a3ffa2c",
   "metadata": {},
   "outputs": [
    {
     "data": {
      "text/plain": [
       "<matplotlib.collections.PathCollection at 0x1509d4483a60>"
      ]
     },
     "execution_count": 60,
     "metadata": {},
     "output_type": "execute_result"
    },
    {
     "data": {
      "image/png": "[encoded data removed]",
      "text/plain": [
       "<Figure size 640x480 with 1 Axes>"
      ]
     },
     "metadata": {},
     "output_type": "display_data"
    }
   ],
   "source": [
    "plt.scatter(mlist[:,0], rlist[:,0]**2, s=1, c='k')"
   ]
  },
  {
   "cell_type": "code",
   "execution_count": null,
   "id": "771c35e7-3453-4423-a9ac-73db09f41e5d",
   "metadata": {},
   "outputs": [],
   "source": []
  }
 ],
 "metadata": {
  "kernelspec": {
   "display_name": "note",
   "language": "python",
   "name": "note"
  },
  "language_info": {
   "codemirror_mode": {
    "name": "ipython",
    "version": 3
   },
   "file_extension": ".py",
   "mimetype": "text/x-python",
   "name": "python",
   "nbconvert_exporter": "python",
   "pygments_lexer": "ipython3",
   "version": "3.10.13"
  }
 },
 "nbformat": 4,
 "nbformat_minor": 5
}
