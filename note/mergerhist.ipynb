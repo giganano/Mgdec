{
 "cells": [
  {
   "cell_type": "code",
   "execution_count": 1,
   "id": "0cd31d82-d7af-4685-870d-bf443f8750f4",
   "metadata": {},
   "outputs": [],
   "source": [
    "import h5py as h5\n",
    "import arepo\n",
    "import numpy as np\n",
    "import matplotlib.pyplot as plt\n",
    "import matplotlib as mpl\n",
    "from tqdm import tqdm\n",
    "from scipy.interpolate import interp1d\n",
    "from scipy.stats import binned_statistic_2d\n",
    "from numba import njit\n",
    "from astropy.io import fits\n",
    "import astropy.coordinates as coord\n",
    "import astropy.units as u\n",
    "\n",
    "basepath = '/n/holylfs05/LABS/hernquist_lab/Users/abeane/Mgdec/'\n",
    "\n",
    "import sys\n",
    "sys.path.append(basepath+'note/')\n",
    "\n",
    "import illustris_python as il\n",
    "TNGbase = '/n/holylfs05/LABS/hernquist_lab/IllustrisTNG/Runs/L35n2160TNG/output/'\n",
    "\n",
    "from lowda import load_galaxy\n",
    "import lowda as lwd\n",
    "from scipy.spatial import KDTree"
   ]
  },
  {
   "cell_type": "code",
   "execution_count": 2,
   "id": "759b13de-cd3c-4026-bf45-912768779eb9",
   "metadata": {},
   "outputs": [],
   "source": [
    "mpl.rc('text', usetex=True)\n",
    "mpl.rc('text.latex', preamble=r\"\"\"\n",
    "\\usepackage{amsmath}\n",
    "\"\"\")\n",
    "# mpl.rcParams.update({'font.size': 22})\n",
    "# mpl.rcParams['text.latex.preamble'] = [r'\\usepackage{amsmath}']\n",
    "# color palette\n",
    "tb_c = ['#4e79a7', '#f28e2b', '#e15759', '#76b7b2', '#59a14f',\n",
    "        '#edc948', '#b07aa1', '#ff9da7', '#9c755f', '#bab0ac']\n",
    "\n",
    "columnwidth = 242.26653 / 72.27 # converts pts to inches\n",
    "textwidth = 513.11743 / 72.27\n",
    "\n",
    "mpl.rcParams.update({'font.size': 8})"
   ]
  },
  {
   "cell_type": "code",
   "execution_count": 3,
   "id": "01369117-f297-4fbc-9b1f-bb737b403a8c",
   "metadata": {},
   "outputs": [],
   "source": [
    "def get_time(time, redshift=False, \n",
    "             Omega0=0.3089, \n",
    "             OmegaLambda=0.6911,\n",
    "             HubbleParam=0.6774):\n",
    "    HUBBLE = 3.2407789e-18\n",
    "    SEC_PER_MEGAYEAR = 3.15576e13\n",
    "    \n",
    "    if redshift:\n",
    "        a = 1./(1.+time)\n",
    "    else:\n",
    "        a = time\n",
    "    \n",
    "    fac = 2. / (3. * np.sqrt(OmegaLambda))\n",
    "    ans = fac * np.arcsinh(np.sqrt(a**3 * OmegaLambda/Omega0))\n",
    "\n",
    "    ans /= HUBBLE * HubbleParam\n",
    "    ans /= SEC_PER_MEGAYEAR * 1000\n",
    "    \n",
    "    return ans"
   ]
  },
  {
   "cell_type": "code",
   "execution_count": 4,
   "id": "10aeb6ca-ba12-440f-a534-e0fe44415c92",
   "metadata": {},
   "outputs": [],
   "source": [
    "meta = {}\n",
    "meta['snap_list'] = np.arange(100)\n",
    "meta['header'] = []\n",
    "meta['redshift'] = []\n",
    "meta['scale_factor'] = []\n",
    "meta['time'] = []\n",
    "meta['time_lookback'] = []\n",
    "\n",
    "t0 = get_time(1.)\n",
    "\n",
    "for i in meta['snap_list']:\n",
    "    header = arepo.Snapshot(TNGbase, i, onlyHeader=True)\n",
    "    \n",
    "    meta['header'].append(header)\n",
    "    meta['redshift'].append(header.Redshift)\n",
    "    meta['scale_factor'].append(header.Time)\n",
    "    meta['time'].append(get_time(header.Time))\n",
    "    meta['time_lookback'].append(t0 - get_time(header.Time))\n",
    "\n",
    "meta['redshift'] = np.array(meta['redshift'])\n",
    "meta['scale_factor'] = np.array(meta['scale_factor'])\n",
    "meta['time'] = np.array(meta['time'])\n",
    "meta['time_lookback'] = np.array(meta['time_lookback'])"
   ]
  },
  {
   "cell_type": "code",
   "execution_count": 57,
   "id": "e8dcd7fa-06b4-45d7-ab47-0880ad205d2c",
   "metadata": {},
   "outputs": [],
   "source": [
    "def partTypeNum(partType):\n",
    "    \"\"\" Mapping between common names and numeric particle types. \"\"\"\n",
    "    if str(partType).isdigit():\n",
    "        return int(partType)\n",
    "        \n",
    "    if str(partType).lower() in ['gas','cells']:\n",
    "        return 0\n",
    "    if str(partType).lower() in ['dm','darkmatter']:\n",
    "        return 1\n",
    "    if str(partType).lower() in ['dmlowres']:\n",
    "        return 2 # only zoom simulations, not present in full periodic boxes\n",
    "    if str(partType).lower() in ['tracer','tracers','tracermc','trmc']:\n",
    "        return 3\n",
    "    if str(partType).lower() in ['star','stars','stellar']:\n",
    "        return 4 # only those with GFM_StellarFormationTime>0\n",
    "    if str(partType).lower() in ['wind']:\n",
    "        return 4 # only those with GFM_StellarFormationTime<0\n",
    "    if str(partType).lower() in ['bh','bhs','blackhole','blackholes']:\n",
    "        return 5\n",
    "    \n",
    "    raise Exception(\"Unknown particle type name.\")\n",
    "\n",
    "def maxPastMass(tree, index, partType='stars'):\n",
    "    \"\"\" Get maximum past mass (of the given partType) along the main branch of a subhalo\n",
    "        specified by index within this tree. \"\"\"\n",
    "    ptNum = partTypeNum(partType)\n",
    "\n",
    "    branchSize = tree['MainLeafProgenitorID'][index] - tree['SubhaloID'][index] + 1\n",
    "    masses = tree['SubhaloMassType'][index: index + branchSize, ptNum]\n",
    "    return np.max(masses)\n",
    "\n",
    "def numMergers(tree, treeMPB, minMassRatio=1e-10, massPartType='stars', index=0, alongFullTree=False):\n",
    "    \"\"\" Calculate the number of mergers, along the main progenitor branch, in this sub-tree \n",
    "    (optionally above some mass ratio threshold). If alongFullTree, count across the full \n",
    "    sub-tree and not only along the MPB. \"\"\"\n",
    "    # verify the input sub-tree has the required fields\n",
    "    reqFields = ['SubhaloID', 'NextProgenitorID', 'MainLeafProgenitorID',\n",
    "                 'FirstProgenitorID', 'SubhaloMassType']\n",
    "\n",
    "    if not set(reqFields).issubset(tree.keys()):\n",
    "        raise Exception('Error: Input tree needs to have loaded fields: '+', '.join(reqFields))\n",
    "\n",
    "    num = 0\n",
    "    invMassRatio = 1.0 / minMassRatio\n",
    "\n",
    "    # walk back main progenitor branch\n",
    "    rootID = tree['SubhaloID'][index]\n",
    "    fpID   = tree['FirstProgenitorID'][index]\n",
    "    \n",
    "    prevIndex = index\n",
    "\n",
    "    while fpID != -1:\n",
    "        fpIndex = index + (fpID - rootID)\n",
    "        fpMass  = maxPastMass(tree, fpIndex, massPartType)\n",
    "\n",
    "        # print('prev snap, fp snap:', tree['SnapNum'][prevIndex], tree['SnapNum'][fpIndex])\n",
    "        \n",
    "        # explore breadth\n",
    "        npID = tree['NextProgenitorID'][fpIndex]\n",
    "\n",
    "        while npID != -1:\n",
    "            npIndex = index + (npID - rootID)\n",
    "            npMass  = maxPastMass(tree, npIndex, massPartType)\n",
    "\n",
    "            # count if both masses are non-zero, and ratio exceeds threshold\n",
    "            if fpMass > 0.0 and npMass > 0.0:\n",
    "                ratio = npMass / fpMass\n",
    "\n",
    "                if ratio >= minMassRatio and ratio <= invMassRatio:\n",
    "                    num += 1\n",
    "                    print(tree['SnapNum'][fpIndex], tree['SnapNum'][npIndex], fpMass, npMass, ratio)\n",
    "                    \n",
    "                    # find MP at this snap\n",
    "                    npsnap = tree['SnapNum'][npIndex]\n",
    "                    subIDnp = tree['SubfindID'][npIndex]\n",
    "                    subhaloNP = il.groupcat.loadSingle(TNGbase, npsnap, subhaloID=subIDnp)\n",
    "                    IDmostbound = subhaloNP['SubhaloIDMostbound']\n",
    "                    \n",
    "                    snapNP = il.snapshot.loadSubhalo(TNGbase, npsnap, subIDnp, 1, \n",
    "                                                     fields=['Coordinates', 'ParticleIDs'])\n",
    "                    \n",
    "                    print(np.isin(IDmostbound, snapNP['ParticleIDs']))\n",
    "                    \n",
    "                    key = np.where(treeMPB['SnapNum'] == npsnap)[0][0]\n",
    "                    subIDmp = treeMPB['SubfindID'][key]\n",
    "                    subhaloMP = il.groupcat.loadSingle(TNGbase, npsnap, subhaloID=subIDmp)\n",
    "                    \n",
    "                    r = np.linalg.norm(subhaloNP['SubhaloPos'] - subhaloMP['SubhaloPos'])\n",
    "                    print(r, IDmostbound)\n",
    "\n",
    "            npID = tree['NextProgenitorID'][npIndex]\n",
    "\n",
    "            # count along full tree instead of just along the MPB? (non-standard)\n",
    "            if alongFullTree:\n",
    "                if tree['FirstProgenitorID'][npIndex] != -1:\n",
    "                    numSubtree = numMergers(tree, minMassRatio=minMassRatio, massPartType=massPartType, index=npIndex)\n",
    "                    num += numSubtree\n",
    "\n",
    "        fpID = tree['FirstProgenitorID'][fpIndex]\n",
    "        prevIndex = fpIndex\n",
    "\n",
    "    return num"
   ]
  },
  {
   "cell_type": "code",
   "execution_count": 58,
   "id": "2d494a8d-9af9-4b01-93d2-e81347fbcbe8",
   "metadata": {},
   "outputs": [],
   "source": [
    "subID_atsnap = 172175\n",
    "snap = 40\n",
    "treeMPB = il.sublink.loadTree(TNGbase, snap, subID_atsnap, onlyMPB=True)\n",
    "tree = il.sublink.loadTree(TNGbase, snap, subID_atsnap)"
   ]
  },
  {
   "cell_type": "code",
   "execution_count": 59,
   "id": "4266ed70-edbc-4068-8b48-1d33ba31ebd0",
   "metadata": {},
   "outputs": [
    {
     "name": "stdout",
     "output_type": "stream",
     "text": [
      "12 11 0.011106764 0.0028435371 0.25601852\n",
      "True\n",
      "91.45672 7143353804\n",
      "9 8 0.0022239117 0.00034909326 0.15697263\n",
      "True\n",
      "66.82731 7261471708\n",
      "1 1 5.0460785e-05 5.767071e-06 0.11428817\n",
      "True\n",
      "26.228292 7348939980\n",
      "1 1 5.0460785e-05 7.005916e-06 0.13883883\n",
      "True\n",
      "50.032654 7231860188\n"
     ]
    },
    {
     "data": {
      "text/plain": [
       "4"
      ]
     },
     "execution_count": 59,
     "metadata": {},
     "output_type": "execute_result"
    }
   ],
   "source": [
    "numMergers(tree, treeMPB, minMassRatio=0.1)"
   ]
  },
  {
   "cell_type": "code",
   "execution_count": 53,
   "id": "26be7eab-7a4d-4962-9532-508fcab10b70",
   "metadata": {},
   "outputs": [
    {
     "data": {
      "text/plain": [
       "[<matplotlib.lines.Line2D at 0x14ff12496d70>]"
      ]
     },
     "execution_count": 53,
     "metadata": {},
     "output_type": "execute_result"
    },
    {
     "data": {
      "image/png": "[encoded data removed]",
      "text/plain": [
       "<Figure size 640x480 with 1 Axes>"
      ]
     },
     "metadata": {},
     "output_type": "display_data"
    }
   ],
   "source": [
    "plt.plot(treeMPB['SubhaloPos'][:,0], treeMPB['SubhaloPos'][:,1])"
   ]
  },
  {
   "cell_type": "code",
   "execution_count": 63,
   "id": "dbb4c788-de1d-4620-b091-81ce59788813",
   "metadata": {},
   "outputs": [
    {
     "name": "stderr",
     "output_type": "stream",
     "text": [
      "100%|██████████| 41/41 [00:26<00:00,  1.57it/s]\n"
     ]
    }
   ],
   "source": [
    "ParticleID = 7143353804\n",
    "\n",
    "ParticleTraj = np.full_like(treeMPB['SubhaloPos'], np.nan)\n",
    "for i in tqdm(range(len(treeMPB['SubhaloGrNr']))):\n",
    "    snapnum = treeMPB['SnapNum'][i]\n",
    "    GrNr = treeMPB['SubhaloGrNr'][i]\n",
    "    snap = il.snapshot.loadHalo(TNGbase, snapnum, GrNr, 1, fields=['Coordinates', 'ParticleIDs'])\n",
    "    \n",
    "    key = snap['ParticleIDs'] == ParticleID\n",
    "    \n",
    "    if np.sum(key) == 0:\n",
    "        continue\n",
    "    \n",
    "    if np.sum(key) > 1:\n",
    "        print('panic')\n",
    "    \n",
    "    ParticleTraj[i] = snap['Coordinates'][key]\n",
    "    "
   ]
  },
  {
   "cell_type": "code",
   "execution_count": 74,
   "id": "8eca0771-bf3a-40fb-a3b0-a672c8ca4b93",
   "metadata": {},
   "outputs": [
    {
     "data": {
      "text/plain": [
       "<matplotlib.collections.PathCollection at 0x14ff0fb65c90>"
      ]
     },
     "execution_count": 74,
     "metadata": {},
     "output_type": "execute_result"
    },
    {
     "data": {
      "image/png": "[encoded data removed]",
      "text/plain": [
       "<Figure size 400x900 with 2 Axes>"
      ]
     },
     "metadata": {},
     "output_type": "display_data"
    }
   ],
   "source": [
    "pos = ParticleTraj - treeMPB['SubhaloPos']\n",
    "\n",
    "fig, axs = plt.subplots(2, 1, figsize=(4, 9))\n",
    "axs[0].plot(pos[:,0], pos[:,2])\n",
    "axs[1].plot(pos[:,0], pos[:,1])\n",
    "\n",
    "for x in axs:\n",
    "    x.set_aspect('equal')\n",
    "\n",
    "k = treeMPB['SnapNum']==14\n",
    "axs[0].scatter(pos[k,0], pos[k,2])\n",
    "axs[1].scatter(pos[k,0], pos[k,1])"
   ]
  },
  {
   "cell_type": "code",
   "execution_count": 81,
   "id": "88205ed8-b174-4997-8cab-ec4fc15eeb24",
   "metadata": {},
   "outputs": [
    {
     "data": {
      "text/plain": [
       "2.9804158136757444"
      ]
     },
     "execution_count": 81,
     "metadata": {},
     "output_type": "execute_result"
    }
   ],
   "source": [
    "meta['time'][31]"
   ]
  },
  {
   "cell_type": "code",
   "execution_count": 84,
   "id": "36703a4f-0a1c-47e7-a499-57711b1b779a",
   "metadata": {},
   "outputs": [
    {
     "name": "stdout",
     "output_type": "stream",
     "text": [
      "count\n",
      "DescendantID\n",
      "FirstProgenitorID\n",
      "FirstSubhaloInFOFGroupID\n",
      "GroupBHMass\n",
      "GroupBHMdot\n",
      "GroupCM\n",
      "GroupFirstSub\n",
      "GroupGasMetalFractions\n",
      "GroupGasMetallicity\n",
      "GroupLen\n",
      "GroupLenType\n",
      "GroupMass\n",
      "GroupMassType\n",
      "GroupNsubs\n",
      "GroupPos\n",
      "GroupSFR\n",
      "GroupStarMetalFractions\n",
      "GroupStarMetallicity\n",
      "GroupVel\n",
      "GroupWindMass\n",
      "Group_M_Crit200\n",
      "Group_M_Crit500\n",
      "Group_M_Mean200\n",
      "Group_M_TopHat200\n",
      "Group_R_Crit200\n",
      "Group_R_Crit500\n",
      "Group_R_Mean200\n",
      "Group_R_TopHat200\n",
      "LastProgenitorID\n",
      "MainLeafProgenitorID\n",
      "Mass\n",
      "MassHistory\n",
      "NextProgenitorID\n",
      "NextSubhaloInFOFGroupID\n",
      "NumParticles\n",
      "RootDescendantID\n",
      "SnapNum\n",
      "SubfindID\n",
      "SubhaloBHMass\n",
      "SubhaloBHMdot\n",
      "SubhaloCM\n",
      "SubhaloGasMetalFractions\n",
      "SubhaloGasMetalFractionsHalfRad\n",
      "SubhaloGasMetalFractionsMaxRad\n",
      "SubhaloGasMetalFractionsSfr\n",
      "SubhaloGasMetalFractionsSfrWeighted\n",
      "SubhaloGasMetallicity\n",
      "SubhaloGasMetallicityHalfRad\n",
      "SubhaloGasMetallicityMaxRad\n",
      "SubhaloGasMetallicitySfr\n",
      "SubhaloGasMetallicitySfrWeighted\n",
      "SubhaloGrNr\n",
      "SubhaloHalfmassRad\n",
      "SubhaloHalfmassRadType\n",
      "SubhaloID\n",
      "SubhaloIDMostbound\n",
      "SubhaloIDRaw\n",
      "SubhaloLen\n",
      "SubhaloLenType\n",
      "SubhaloMass\n",
      "SubhaloMassInHalfRad\n",
      "SubhaloMassInHalfRadType\n",
      "SubhaloMassInMaxRad\n",
      "SubhaloMassInMaxRadType\n",
      "SubhaloMassInRad\n",
      "SubhaloMassInRadType\n",
      "SubhaloMassType\n",
      "SubhaloParent\n",
      "SubhaloPos\n",
      "SubhaloSFR\n",
      "SubhaloSFRinHalfRad\n",
      "SubhaloSFRinMaxRad\n",
      "SubhaloSFRinRad\n",
      "SubhaloSpin\n",
      "SubhaloStarMetalFractions\n",
      "SubhaloStarMetalFractionsHalfRad\n",
      "SubhaloStarMetalFractionsMaxRad\n",
      "SubhaloStarMetallicity\n",
      "SubhaloStarMetallicityHalfRad\n",
      "SubhaloStarMetallicityMaxRad\n",
      "SubhaloStellarPhotometrics\n",
      "SubhaloStellarPhotometricsMassInRad\n",
      "SubhaloStellarPhotometricsRad\n",
      "SubhaloVel\n",
      "SubhaloVelDisp\n",
      "SubhaloVmax\n",
      "SubhaloVmaxRad\n",
      "SubhaloWindMass\n",
      "TreeID\n"
     ]
    }
   ],
   "source": [
    "for k in treeMPB.keys():\n",
    "    print(k)"
   ]
  },
  {
   "cell_type": "code",
   "execution_count": 92,
   "id": "bba5ba55-1756-4ae9-a69b-84aca2f002a1",
   "metadata": {},
   "outputs": [
    {
     "name": "stderr",
     "output_type": "stream",
     "text": [
      "/tmp/ipykernel_854223/324025765.py:6: RuntimeWarning: divide by zero encountered in divide\n",
      "  plt.plot(x, dydx/y)\n",
      "/tmp/ipykernel_854223/324025765.py:6: RuntimeWarning: invalid value encountered in divide\n",
      "  plt.plot(x, dydx/y)\n"
     ]
    },
    {
     "data": {
      "text/plain": [
       "[<matplotlib.lines.Line2D at 0x14ff0e7e96c0>]"
      ]
     },
     "execution_count": 92,
     "metadata": {},
     "output_type": "execute_result"
    },
    {
     "data": {
      "image/png": "[encoded data removed]",
      "text/plain": [
       "<Figure size 640x480 with 1 Axes>"
      ]
     },
     "metadata": {},
     "output_type": "display_data"
    }
   ],
   "source": [
    "x = meta['time'][treeMPB['SnapNum']]\n",
    "y = treeMPB['SubhaloBHMass']\n",
    "\n",
    "dydx = np.gradient(y, x)\n",
    "\n",
    "plt.plot(x, dydx/y)"
   ]
  },
  {
   "cell_type": "code",
   "execution_count": null,
   "id": "298c95c3-7503-43aa-b5a6-da3ef2a75b96",
   "metadata": {},
   "outputs": [],
   "source": []
  }
 ],
 "metadata": {
  "kernelspec": {
   "display_name": "note",
   "language": "python",
   "name": "note"
  },
  "language_info": {
   "codemirror_mode": {
    "name": "ipython",
    "version": 3
   },
   "file_extension": ".py",
   "mimetype": "text/x-python",
   "name": "python",
   "nbconvert_exporter": "python",
   "pygments_lexer": "ipython3",
   "version": "3.10.13"
  }
 },
 "nbformat": 4,
 "nbformat_minor": 5
}
