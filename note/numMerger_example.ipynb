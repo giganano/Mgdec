{
 "cells": [
  {
   "cell_type": "code",
   "execution_count": 1,
   "id": "32a71c04-2b11-4555-b6e3-3205b1f1be60",
   "metadata": {},
   "outputs": [],
   "source": [
    "import numpy as np\n",
    "import h5py as h5\n",
    "import matplotlib.pyplot as plt\n",
    "import matplotlib as mpl\n",
    "import math as m\n",
    "from tqdm.notebook import tqdm\n",
    "import illustris_python as il\n",
    "import sys\n",
    "from scipy.stats import binned_statistic_2d\n",
    "import matplotlib.colors as colors\n",
    "\n",
    "import six\n",
    "import glob\n",
    "import os\n",
    "from illustris_python.groupcat import gcPath, offsetPath\n",
    "from illustris_python.util import partTypeNum\n",
    "from illustris_python.sublink import treePath, treeOffsets, subLinkOffsets, loadTree, maxPastMass\n",
    "\n",
    "SnapPath=\"/n/holylfs05/LABS/hernquist_lab/IllustrisTNG/Runs/L35n2160TNG/output\"\n",
    "h=0.6774 "
   ]
  },
  {
   "cell_type": "code",
   "execution_count": 27,
   "id": "fd039ce4-9ae3-48e4-9b9f-5ca23f9cd9a3",
   "metadata": {},
   "outputs": [],
   "source": [
    "def numMergers(tree, minMassRatio=1e-10, massPartType='stars', index=0):\n",
    "    \"\"\" Calculate the number of mergers, along the main progenitor branch, in this sub-tree \n",
    "    (optionally above some mass ratio threshold).  \"\"\"\n",
    "    # verify the input sub-tree has the required fields\n",
    "    reqFields = ['SubhaloID', 'NextProgenitorID', 'MainLeafProgenitorID',\n",
    "                 'FirstProgenitorID', 'SubhaloMassType']\n",
    "\n",
    "    if not set(reqFields).issubset(tree.keys()):\n",
    "        raise Exception('Error: Input tree needs to have loaded fields: '+', '.join(reqFields))\n",
    "\n",
    "    num = 0\n",
    "    invMassRatio = 1.0 / minMassRatio\n",
    "\n",
    "    # walk back main progenitor branch\n",
    "    rootID = tree['SubhaloID'][index]\n",
    "    fpID   = tree['FirstProgenitorID'][index]\n",
    "\n",
    "\n",
    "    fpIndex = index + (fpID - rootID)\n",
    "    fpMass  = maxPastMass(tree, fpIndex, massPartType)\n",
    "    print('fp snapnum=', tree['SnapNum'][fpIndex])\n",
    "\n",
    "    # explore breadth\n",
    "    npID = tree['NextProgenitorID'][fpIndex]\n",
    "\n",
    "\n",
    "    while npID != -1:\n",
    "        npIndex = index + (npID - rootID)\n",
    "        npMass  = maxPastMass(tree, npIndex, massPartType)\n",
    "\n",
    "        print('snapnum ', tree['SnapNum'][npIndex])\n",
    "        \n",
    "        # count if both masses are non-zero, and ratio exceeds threshold\n",
    "        if fpMass > 0.0 and npMass > 0.0:\n",
    "            ratio = npMass / fpMass\n",
    "\n",
    "            if ratio >= minMassRatio and ratio <= invMassRatio:\n",
    "                print('npID', npID, 'fpID', fpID)\n",
    "                num += 1\n",
    "\n",
    "\n",
    "        npID = tree['NextProgenitorID'][npIndex]\n",
    "\n",
    "\n",
    "    return num"
   ]
  },
  {
   "cell_type": "markdown",
   "id": "4205ec3d-5158-4418-a261-43f7cf2c5dce",
   "metadata": {},
   "source": [
    "For the galaxy we are looking at, its subhalo ID is 159068 at Snapshot=30 (and 137385 at Snapshot=29). Let's use this as an example"
   ]
  },
  {
   "cell_type": "code",
   "execution_count": 28,
   "id": "4e39d279-d1fc-4368-80a2-11a17e8a0b38",
   "metadata": {},
   "outputs": [],
   "source": [
    "treeMPB = il.sublink.loadTree(SnapPath, 30, 159068, onlyMPB=True)"
   ]
  },
  {
   "cell_type": "code",
   "execution_count": 29,
   "id": "aacd8af4-c4e8-4782-a99b-ba98939feff0",
   "metadata": {},
   "outputs": [
    {
     "name": "stdout",
     "output_type": "stream",
     "text": [
      "[30 29 28 27 26]\n",
      "[159068 137385 129193 116174 104507]\n"
     ]
    }
   ],
   "source": [
    "print(treeMPB['SnapNum'][:5])\n",
    "print(treeMPB['SubfindID'][:5])"
   ]
  },
  {
   "cell_type": "code",
   "execution_count": 30,
   "id": "5cab2e13-1fff-4dbd-8e67-abdd7c5e94e8",
   "metadata": {},
   "outputs": [
    {
     "name": "stdout",
     "output_type": "stream",
     "text": [
      "30 159068 18843240\n",
      "fp snapnum= 29\n",
      "snapnum  28\n",
      "npID 18861994 fpID 18843241\n",
      "snapnum  29\n",
      "snapnum  29\n",
      "snapnum  29\n",
      "snapnum  29\n",
      "snapnum  29\n",
      "snapnum  29\n",
      "snapnum  29\n",
      "snapnum  29\n",
      "snapnum  29\n",
      "snapnum  29\n",
      "snapnum  29\n",
      "snapnum  29\n",
      "snapnum  29\n",
      "snapnum  29\n",
      "snapnum  29\n",
      "snapnum  29\n",
      "snapnum  29\n",
      "snapnum  29\n",
      "snapnum  29\n",
      "snapnum  28\n",
      "snapnum  29\n",
      "snapnum  29\n",
      "snapnum  29\n",
      "snapnum  29\n",
      "snapnum  29\n",
      "snapnum  29\n",
      "snapnum  29\n",
      "snapnum  29\n",
      "snapnum  28\n",
      "snapnum  29\n",
      "snapnum  29\n",
      "snapnum  29\n",
      "snapnum  29\n",
      "snapnum  29\n",
      "snapnum  29\n",
      "snapnum  29\n",
      "snapnum  29\n",
      "snapnum  29\n"
     ]
    },
    {
     "data": {
      "text/plain": [
       "1"
      ]
     },
     "execution_count": 30,
     "metadata": {},
     "output_type": "execute_result"
    }
   ],
   "source": [
    "tree = il.sublink.loadTree(SnapPath,30,159068)\n",
    "print(tree['SnapNum'][0], tree['SubfindID'][0], tree['SubhaloID'][0])\n",
    "numMergers(tree, minMassRatio=0.001)"
   ]
  },
  {
   "cell_type": "code",
   "execution_count": 18,
   "id": "a6022c0a-5a94-4ba3-9849-8dce64685d09",
   "metadata": {},
   "outputs": [
    {
     "name": "stdout",
     "output_type": "stream",
     "text": [
      "[ 137385  137540 3535500  137499 2294799  137478  137518  137467  137508\n",
      "  137521 1990677 3268724  137538  137516  937059  137485  137535  137490\n",
      "  937062 5551158 4259212 3255577  137532 3717931 3889247  137513 2308925\n",
      "  137530 3660382 6152733 5140544 6730305 4229407 4988204 6840052 4600175\n",
      " 5831662]\n",
      "[18843241 18862537 18862595 18862630 18862670 18862699 18862725 18862751\n",
      " 18862779 18862794 18862815 18862840 18862858 18862883 18862902 18862917\n",
      " 18862935 18862958 18862969 18862982 18863005 18863012 18863019 18863028\n",
      " 18863035 18863041 18863043 18863046 18863051 18863053 18863055 18863057\n",
      " 18863059 18863061 18863062 18863063 18863064]\n"
     ]
    }
   ],
   "source": [
    "key = tree['SnapNum']==29\n",
    "print(tree['SubfindID'][key])\n",
    "print(tree['SubhaloID'][key])"
   ]
  },
  {
   "cell_type": "code",
   "execution_count": 32,
   "id": "df670701-b038-4295-a77e-85c81ea38d9d",
   "metadata": {},
   "outputs": [
    {
     "name": "stdout",
     "output_type": "stream",
     "text": [
      "[28] [129197]\n",
      "[29] [137385]\n"
     ]
    }
   ],
   "source": [
    "tree = il.sublink.loadTree(SnapPath,30,159068)\n",
    "\n",
    "id_match = 18861994\n",
    "k = np.where(tree['SubhaloID'] == id_match)\n",
    "print(tree['SnapNum'][k], tree['SubfindID'][k])\n",
    "\n",
    "id_match = 18843241\n",
    "k = np.where(tree['SubhaloID'] == id_match)\n",
    "print(tree['SnapNum'][k], tree['SubfindID'][k])"
   ]
  },
  {
   "cell_type": "code",
   "execution_count": 27,
   "id": "d132e61c-1e4f-4cd1-bcac-661d033fca4d",
   "metadata": {},
   "outputs": [
    {
     "name": "stdout",
     "output_type": "stream",
     "text": [
      "subfind_id 137385 29\n"
     ]
    }
   ],
   "source": [
    "SnapNum = 30\n",
    "id_match = 18861994\n",
    "tree = il.sublink.loadTree(SnapPath, SnapNum, \n",
    "                           159068,\n",
    "                           fields=['NextProgenitorID','SubfindID','SnapNum'])\n",
    "for i in range(0, len(tree['NextProgenitorID'])):\n",
    "    subfind_id = tree['SubfindID'][i]\n",
    "    next_prog_id = tree['NextProgenitorID'][i]\n",
    "    sn = tree['SnapNum'][i]\n",
    "    if next_prog_id == id_match:\n",
    "        print('subfind_id', subfind_id, sn)"
   ]
  },
  {
   "cell_type": "code",
   "execution_count": 31,
   "id": "87983cdc-5b8d-4d00-8860-fcd2535132bb",
   "metadata": {},
   "outputs": [
    {
     "name": "stdout",
     "output_type": "stream",
     "text": [
      "subfind_id 159068 30\n"
     ]
    }
   ],
   "source": [
    "SnapNum = 30\n",
    "id_match = 18843241\n",
    "tree = il.sublink.loadTree(SnapPath, SnapNum, \n",
    "                           159068,\n",
    "                           fields=['FirstProgenitorID','SubfindID','SnapNum'])\n",
    "for i in range(0, len(tree['FirstProgenitorID'])):\n",
    "    subfind_id = tree['SubfindID'][i]\n",
    "    next_prog_id = tree['FirstProgenitorID'][i]\n",
    "    sn = tree['SnapNum'][i]\n",
    "    if next_prog_id == id_match:\n",
    "        print('subfind_id', subfind_id, sn)"
   ]
  },
  {
   "cell_type": "code",
   "execution_count": 18,
   "id": "a146276d-3df3-415f-9f3d-ed3df2637240",
   "metadata": {},
   "outputs": [
    {
     "name": "stdout",
     "output_type": "stream",
     "text": [
      "subfind_id 137385 29\n"
     ]
    }
   ],
   "source": [
    "SnapNum = 29\n",
    "id_match = 18861994\n",
    "tree = il.sublink.loadTree(SnapPath, SnapNum, \n",
    "                           137385,\n",
    "                           fields=['NextProgenitorID','SubfindID', 'SnapNum'])\n",
    "for i in range(0, len(tree['NextProgenitorID'])):\n",
    "    subfind_id = tree['SubfindID'][i]\n",
    "    next_prog_id = tree['NextProgenitorID'][i]\n",
    "    sn = tree['SnapNum'][i]\n",
    "    if next_prog_id == id_match:\n",
    "        print('subfind_id', subfind_id, sn)"
   ]
  },
  {
   "cell_type": "code",
   "execution_count": 12,
   "id": "e7270e25-5405-4801-a03d-d5346e709bcf",
   "metadata": {},
   "outputs": [
    {
     "data": {
      "text/plain": [
       "51.894546927763784"
      ]
     },
     "execution_count": 12,
     "metadata": {},
     "output_type": "execute_result"
    }
   ],
   "source": [
    "il.groupcat.loadSingle(SnapPath, 29, subhaloID=137385)['SubhaloMass']/h"
   ]
  },
  {
   "cell_type": "code",
   "execution_count": 13,
   "id": "f983c7ad-4f01-42bd-bda0-5f3c9debd399",
   "metadata": {},
   "outputs": [
    {
     "data": {
      "text/plain": [
       "0.008167432258711263"
      ]
     },
     "execution_count": 13,
     "metadata": {},
     "output_type": "execute_result"
    }
   ],
   "source": [
    "il.groupcat.loadSingle(SnapPath, 30, subhaloID=137385)['SubhaloMass']/h"
   ]
  },
  {
   "cell_type": "code",
   "execution_count": null,
   "id": "7630e7a0-c82a-4bfa-be49-73d68560377a",
   "metadata": {},
   "outputs": [],
   "source": []
  },
  {
   "cell_type": "code",
   "execution_count": null,
   "id": "4ad34e6c-3f60-4dc8-bac2-d89fb48a00bf",
   "metadata": {},
   "outputs": [],
   "source": []
  },
  {
   "cell_type": "code",
   "execution_count": null,
   "id": "b86dc9c5-977a-405f-810b-35efd1b73b46",
   "metadata": {},
   "outputs": [],
   "source": []
  },
  {
   "cell_type": "code",
   "execution_count": null,
   "id": "28f483ac-c1fb-47e3-8d6d-e7bdc1c14eaa",
   "metadata": {},
   "outputs": [],
   "source": []
  },
  {
   "cell_type": "code",
   "execution_count": null,
   "id": "72338ce8-d8c1-4994-a414-177f92a28778",
   "metadata": {},
   "outputs": [],
   "source": []
  },
  {
   "cell_type": "code",
   "execution_count": null,
   "id": "2f1f00d7-1378-45ce-bb4f-072229902eef",
   "metadata": {},
   "outputs": [],
   "source": []
  },
  {
   "cell_type": "code",
   "execution_count": null,
   "id": "69735e89-ebac-430b-b33e-287007640a29",
   "metadata": {},
   "outputs": [],
   "source": []
  },
  {
   "cell_type": "code",
   "execution_count": 30,
   "id": "fc2e1b3d-d090-4872-afe3-a9d64991c80a",
   "metadata": {},
   "outputs": [
    {
     "name": "stdout",
     "output_type": "stream",
     "text": [
      "npID 18849543 fpID 18843249\n",
      "npID 18849594 fpID 18843249\n"
     ]
    },
    {
     "data": {
      "text/plain": [
       "2"
      ]
     },
     "execution_count": 30,
     "metadata": {},
     "output_type": "execute_result"
    }
   ],
   "source": [
    "numMergers(il.sublink.loadTree(SnapPath,22,51227), minMassRatio=0.001)"
   ]
  },
  {
   "cell_type": "code",
   "execution_count": 20,
   "id": "073d0403-4a0f-4a9b-a8e7-bab8ff9865d1",
   "metadata": {},
   "outputs": [
    {
     "name": "stdout",
     "output_type": "stream",
     "text": [
      "subfind_id 41552 21\n"
     ]
    }
   ],
   "source": [
    "SnapNum = 22\n",
    "id_match = 18849543\n",
    "tree = il.sublink.loadTree(SnapPath, SnapNum, \n",
    "                           51227,\n",
    "                           fields=['NextProgenitorID','SubfindID','SnapNum'])\n",
    "for i in range(0, len(tree['NextProgenitorID'])):\n",
    "    subfind_id = tree['SubfindID'][i]\n",
    "    next_prog_id = tree['NextProgenitorID'][i]\n",
    "    sn = tree['SnapNum'][i]\n",
    "    if next_prog_id == id_match:\n",
    "        print('subfind_id', subfind_id, sn)"
   ]
  },
  {
   "cell_type": "code",
   "execution_count": null,
   "id": "e1a1d1f5-fdcb-41ca-bcce-5aa3ed518774",
   "metadata": {},
   "outputs": [],
   "source": []
  }
 ],
 "metadata": {
  "kernelspec": {
   "display_name": "note",
   "language": "python",
   "name": "note"
  },
  "language_info": {
   "codemirror_mode": {
    "name": "ipython",
    "version": 3
   },
   "file_extension": ".py",
   "mimetype": "text/x-python",
   "name": "python",
   "nbconvert_exporter": "python",
   "pygments_lexer": "ipython3",
   "version": "3.10.13"
  }
 },
 "nbformat": 4,
 "nbformat_minor": 5
}
