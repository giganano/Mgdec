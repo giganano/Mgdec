{
 "cells": [
  {
   "cell_type": "code",
   "execution_count": 1,
   "id": "aca746eb-c9f3-4fdf-8fd7-520f8dd281a6",
   "metadata": {},
   "outputs": [],
   "source": [
    "import h5py as h5\n",
    "import arepo\n",
    "import numpy as np\n",
    "import matplotlib.pyplot as plt\n",
    "import matplotlib as mpl\n",
    "from tqdm import tqdm\n",
    "from scipy.interpolate import interp1d\n",
    "from scipy.stats import binned_statistic_2d, gaussian_kde\n",
    "from numba import njit\n",
    "from astropy.io import fits, ascii\n",
    "import astropy.coordinates as coord\n",
    "import astropy.units as u\n",
    "from scipy.ndimage import gaussian_filter\n",
    "\n",
    "from astropy.coordinates import SkyCoord, Galactic, Galactocentric\n",
    "from astropy import units as u\n",
    "\n",
    "basepath = '/n/holylfs05/LABS/hernquist_lab/Users/abeane/Mgdec/'\n",
    "\n",
    "import sys\n",
    "sys.path.append(basepath+'note/')\n",
    "\n",
    "import illustris_python as il\n",
    "TNGbase = '/n/holylfs05/LABS/hernquist_lab/IllustrisTNG/Runs/L35n2160TNG/output/'\n",
    "\n",
    "from lowda import load_galaxy\n",
    "import lowda as lwd"
   ]
  },
  {
   "cell_type": "code",
   "execution_count": 2,
   "id": "63fa12fb-6682-4d36-b0c5-31beb724594a",
   "metadata": {},
   "outputs": [],
   "source": [
    "mpl.rc('text', usetex=True)\n",
    "mpl.rc('text.latex', preamble=r\"\"\"\n",
    "\\usepackage{amsmath}\n",
    "\"\"\")\n",
    "# mpl.rcParams.update({'font.size': 22})\n",
    "# mpl.rcParams['text.latex.preamble'] = [r'\\usepackage{amsmath}']\n",
    "# color palette\n",
    "tb_c = ['#4e79a7', '#f28e2b', '#e15759', '#76b7b2', '#59a14f',\n",
    "        '#edc948', '#b07aa1', '#ff9da7', '#9c755f', '#bab0ac']\n",
    "\n",
    "columnwidth = 242.26653 / 72.27 # converts pts to inches\n",
    "textwidth = 513.11743 / 72.27\n",
    "\n",
    "mpl.rcParams.update({'font.size': 8})"
   ]
  },
  {
   "cell_type": "code",
   "execution_count": 3,
   "id": "1c573a68-533a-4bd4-af95-004707cf4747",
   "metadata": {},
   "outputs": [],
   "source": [
    "def get_time(time, redshift=False, \n",
    "             Omega0=0.3089, \n",
    "             OmegaLambda=0.6911,\n",
    "             HubbleParam=0.6774):\n",
    "    HUBBLE = 3.2407789e-18\n",
    "    SEC_PER_MEGAYEAR = 3.15576e13\n",
    "    \n",
    "    if redshift:\n",
    "        a = 1./(1.+time)\n",
    "    else:\n",
    "        a = time\n",
    "    \n",
    "    fac = 2. / (3. * np.sqrt(OmegaLambda))\n",
    "    ans = fac * np.arcsinh(np.sqrt(a**3 * OmegaLambda/Omega0, where=a>0), where=a>0)\n",
    "\n",
    "    ans /= HUBBLE * HubbleParam\n",
    "    ans /= SEC_PER_MEGAYEAR * 1000\n",
    "    \n",
    "    if isinstance(ans, float):\n",
    "        if a <= 0:\n",
    "            ans = np.nan\n",
    "    else:\n",
    "        ans[a <= 0] = np.nan\n",
    "    \n",
    "    return ans"
   ]
  },
  {
   "cell_type": "code",
   "execution_count": 4,
   "id": "7f2416d6-fa59-4032-b26e-9b1797c253cd",
   "metadata": {},
   "outputs": [],
   "source": [
    "meta = {}\n",
    "meta['snap_list'] = np.arange(100)\n",
    "meta['header'] = []\n",
    "meta['redshift'] = []\n",
    "meta['scale_factor'] = []\n",
    "meta['time'] = []\n",
    "meta['time_lookback'] = []\n",
    "\n",
    "t0 = get_time(1.)\n",
    "\n",
    "for i in meta['snap_list']:\n",
    "    header = arepo.Snapshot(TNGbase, i, onlyHeader=True)\n",
    "    \n",
    "    meta['header'].append(header)\n",
    "    meta['redshift'].append(header.Redshift)\n",
    "    meta['scale_factor'].append(header.Time)\n",
    "    meta['time'].append(get_time(header.Time))\n",
    "    meta['time_lookback'].append(t0 - get_time(header.Time))\n",
    "\n",
    "meta['redshift'] = np.array(meta['redshift'])\n",
    "meta['scale_factor'] = np.array(meta['scale_factor'])\n",
    "meta['time'] = np.array(meta['time'])\n",
    "meta['time_lookback'] = np.array(meta['time_lookback'])"
   ]
  },
  {
   "cell_type": "code",
   "execution_count": 5,
   "id": "52e99d38-26c8-42ab-8c27-c8aa5be719f3",
   "metadata": {},
   "outputs": [],
   "source": [
    "subID = 392276\n",
    "snapnum = 99"
   ]
  },
  {
   "cell_type": "code",
   "execution_count": 34,
   "id": "b4565483-4fa8-4412-9239-76660b7c62ec",
   "metadata": {},
   "outputs": [],
   "source": [
    "# get trajectory of MPB\n",
    "from scipy.interpolate import CubicSpline\n",
    "\n",
    "MPB = il.sublink.loadTree(TNGbase, snapnum, subID, onlyMPB=True)\n",
    "pos = MPB['SubhaloPos']\n",
    "time = meta['time'][MPB['SnapNum']]\n",
    "rhalf = MPB['SubhaloHalfmassRadType'][:,4]\n",
    "\n",
    "time = np.flip(time)\n",
    "pos = np.flip(pos, axis=0)\n",
    "\n",
    "posint = CubicSpline(time, pos)\n",
    "rhalfint = CubicSpline(time, rhalf)"
   ]
  },
  {
   "cell_type": "code",
   "execution_count": 55,
   "id": "6184161d-ecff-4cf4-9962-7b38e223790d",
   "metadata": {},
   "outputs": [],
   "source": [
    "# load in subhalo\n",
    "sub = il.snapshot.loadSubhalo(TNGbase, snapnum, subID, 4, fields=['BirthPos', 'GFM_StellarFormationTime'])\n",
    "\n",
    "tform = get_time(sub['GFM_StellarFormationTime'])\n",
    "rhalf_attform = rhalfint(tform)\n",
    "pos_attform = posint(tform)\n",
    "birthpos = sub['BirthPos']\n",
    "\n",
    "rdiff = np.linalg.norm(pos_attform - birthpos, axis=1)\n",
    "in_situ = rdiff < 40"
   ]
  },
  {
   "cell_type": "code",
   "execution_count": 56,
   "id": "f965601b-1a39-430c-9a69-1ab150895d9e",
   "metadata": {},
   "outputs": [
    {
     "data": {
      "text/plain": [
       "0.9113309108492862"
      ]
     },
     "execution_count": 56,
     "metadata": {},
     "output_type": "execute_result"
    }
   ],
   "source": [
    "np.sum(in_situ)/len(in_situ)"
   ]
  },
  {
   "cell_type": "code",
   "execution_count": 48,
   "id": "4dbbcc89-f909-452a-ab9d-990542fcfece",
   "metadata": {},
   "outputs": [
    {
     "data": {
      "image/png": "[encoded data removed]",
      "text/plain": [
       "<Figure size 640x480 with 1 Axes>"
      ]
     },
     "metadata": {},
     "output_type": "display_data"
    }
   ],
   "source": [
    "plt.hist(rhalf_attform, bins=100);"
   ]
  },
  {
   "cell_type": "code",
   "execution_count": 50,
   "id": "f72baab1-f56c-40bb-ba18-a23bff3996a2",
   "metadata": {},
   "outputs": [
    {
     "data": {
      "text/plain": [
       "[<matplotlib.lines.Line2D at 0x14bfd61411b0>]"
      ]
     },
     "execution_count": 50,
     "metadata": {},
     "output_type": "execute_result"
    },
    {
     "data": {
      "image/png": "[encoded data removed]",
      "text/plain": [
       "<Figure size 640x480 with 1 Axes>"
      ]
     },
     "metadata": {},
     "output_type": "display_data"
    }
   ],
   "source": [
    "plt.plot(time, rhalf)"
   ]
  },
  {
   "cell_type": "code",
   "execution_count": null,
   "id": "e951b692-3952-48f2-a0ff-465e1b98dd18",
   "metadata": {},
   "outputs": [],
   "source": []
  }
 ],
 "metadata": {
  "kernelspec": {
   "display_name": "note",
   "language": "python",
   "name": "note"
  },
  "language_info": {
   "codemirror_mode": {
    "name": "ipython",
    "version": 3
   },
   "file_extension": ".py",
   "mimetype": "text/x-python",
   "name": "python",
   "nbconvert_exporter": "python",
   "pygments_lexer": "ipython3",
   "version": "3.10.13"
  }
 },
 "nbformat": 4,
 "nbformat_minor": 5
}
