{
 "cells": [
  {
   "cell_type": "code",
   "execution_count": 1,
   "id": "afe7f87f-5729-4394-a9e9-3881f7201b2b",
   "metadata": {},
   "outputs": [],
   "source": [
    "import numpy as np\n",
    "import arepo\n",
    "import matplotlib.pyplot as plt\n",
    "from tqdm import tqdm\n",
    "import matplotlib as mpl\n",
    "import h5py as h5\n",
    "\n",
    "import astropy.units as u\n",
    "\n",
    "from joblib import Parallel, delayed"
   ]
  },
  {
   "cell_type": "code",
   "execution_count": 2,
   "id": "5c389b1d-0de2-42f0-9e37-ecde94c4bea9",
   "metadata": {},
   "outputs": [],
   "source": [
    "import illustris_python as il\n",
    "TNGbase = '/n/holylfs05/LABS/hernquist_lab/IllustrisTNG/Runs/L35n2160TNG/output/'"
   ]
  },
  {
   "cell_type": "code",
   "execution_count": 3,
   "id": "e49bdba9-d2a2-4512-a2bd-3081d5ee6b5b",
   "metadata": {},
   "outputs": [],
   "source": [
    "def get_time(time, redshift=False, \n",
    "             Omega0=0.3089, \n",
    "             OmegaLambda=0.6911,\n",
    "             HubbleParam=0.6774):\n",
    "    HUBBLE = 3.2407789e-18\n",
    "    SEC_PER_MEGAYEAR = 3.15576e13\n",
    "    \n",
    "    if redshift:\n",
    "        a = 1./(1.+time)\n",
    "    else:\n",
    "        a = time\n",
    "    \n",
    "    fac = 2. / (3. * np.sqrt(OmegaLambda))\n",
    "    ans = fac * np.arcsinh(np.sqrt(a**3 * OmegaLambda/Omega0))\n",
    "\n",
    "    ans /= HUBBLE * HubbleParam\n",
    "    ans /= SEC_PER_MEGAYEAR * 1000\n",
    "    \n",
    "    return ans"
   ]
  },
  {
   "cell_type": "code",
   "execution_count": 4,
   "id": "d994d952-6a9a-4530-93ee-a379911be7e8",
   "metadata": {},
   "outputs": [],
   "source": [
    "meta = {}\n",
    "meta['snap_list'] = np.arange(100)\n",
    "meta['header'] = []\n",
    "meta['redshift'] = []\n",
    "meta['scale_factor'] = []\n",
    "meta['time'] = []\n",
    "meta['time_lookback'] = []\n",
    "\n",
    "t0 = get_time(1.)\n",
    "\n",
    "for i in meta['snap_list']:\n",
    "    header = arepo.Snapshot(TNGbase, i, onlyHeader=True)\n",
    "    \n",
    "    meta['header'].append(header)\n",
    "    meta['redshift'].append(header.Redshift)\n",
    "    meta['scale_factor'].append(header.Time)\n",
    "    meta['time'].append(get_time(header.Time))\n",
    "    meta['time_lookback'].append(t0 - get_time(header.Time))\n",
    "\n",
    "meta['redshift'] = np.array(meta['redshift'])\n",
    "meta['scale_factor'] = np.array(meta['scale_factor'])\n",
    "meta['time'] = np.array(meta['time'])\n",
    "meta['time_lookback'] = np.array(meta['time_lookback'])"
   ]
  },
  {
   "cell_type": "code",
   "execution_count": 6,
   "id": "9269e524-aa30-4465-9522-2d40ab46922a",
   "metadata": {},
   "outputs": [
    {
     "name": "stdout",
     "output_type": "stream",
     "text": [
      "snapnum= 99\n",
      "z= 2.220446049250313e-16\n",
      "tuniv= 13.802719985485238\n"
     ]
    }
   ],
   "source": [
    "snapnum = 99\n",
    "z = meta['redshift'][snapnum]\n",
    "tuniv = meta['time'][snapnum]\n",
    "\n",
    "print('snapnum=', snapnum)\n",
    "print('z=', z)\n",
    "print('tuniv=', tuniv)"
   ]
  },
  {
   "cell_type": "code",
   "execution_count": 8,
   "id": "0ed21841-b352-43e7-a004-cb7b2a87de74",
   "metadata": {},
   "outputs": [],
   "source": [
    "subID = 392276\n",
    "tree = il.sublink.loadTree(TNGbase, snapnum, subID)"
   ]
  },
  {
   "cell_type": "code",
   "execution_count": 22,
   "id": "f0c5033d-84e6-426c-b7e3-1cdc60c2d448",
   "metadata": {},
   "outputs": [],
   "source": [
    "def maxPastMass(tree, index, ptNum=4):\n",
    "    \"\"\" Get maximum past mass (of the given partType) along the main branch of a subhalo\n",
    "        specified by index within this tree. \"\"\"\n",
    "\n",
    "    branchSize = tree['MainLeafProgenitorID'][index] - tree['SubhaloID'][index] + 1\n",
    "    masses = tree['SubhaloMassType'][index: index + branchSize, ptNum]\n",
    "    return np.max(masses)\n",
    "\n",
    "def listMergers(tree, minMassRatio=1e-10, massPartNum=4, index=0, alongFullTree=False):\n",
    "    \"\"\" Calculate the number of mergers, along the main progenitor branch, in this sub-tree \n",
    "    (optionally above some mass ratio threshold). If alongFullTree, count across the full \n",
    "    sub-tree and not only along the MPB. \"\"\"\n",
    "    # verify the input sub-tree has the required fields\n",
    "    reqFields = ['SubhaloID', 'NextProgenitorID', 'MainLeafProgenitorID',\n",
    "                 'FirstProgenitorID', 'SubhaloMassType']\n",
    "\n",
    "    if not set(reqFields).issubset(tree.keys()):\n",
    "        raise Exception('Error: Input tree needs to have loaded fields: '+', '.join(reqFields))\n",
    "\n",
    "    num = 0\n",
    "    invMassRatio = 1.0 / minMassRatio\n",
    "\n",
    "    # walk back main progenitor branch\n",
    "    rootID = tree['SubhaloID'][index]\n",
    "    fpID   = tree['FirstProgenitorID'][index]\n",
    "\n",
    "    while fpID != -1:\n",
    "        fpIndex = index + (fpID - rootID)\n",
    "        fpMass  = maxPastMass(tree, fpIndex, ptNum=massPartNum)\n",
    "\n",
    "        # explore breadth\n",
    "        npID = tree['NextProgenitorID'][fpIndex]\n",
    "\n",
    "        while npID != -1:\n",
    "            npIndex = index + (npID - rootID)\n",
    "            npMass  = maxPastMass(tree, npIndex, ptNum=massPartNum)\n",
    "\n",
    "            # count if both masses are non-zero, and ratio exceeds threshold\n",
    "            if fpMass > 0.0 and npMass > 0.0:\n",
    "                ratio = npMass / fpMass\n",
    "\n",
    "                if ratio >= minMassRatio and ratio <= invMassRatio:\n",
    "                    print('npidx, z = ', tree['SnapNum'][npIndex], round(meta['redshift'][tree['SnapNum'][npIndex]], 3))\n",
    "                    print('fpidx, z = ', tree['SnapNum'][fpIndex], round(meta['redshift'][tree['SnapNum'][fpIndex]], 3))\n",
    "                    print('mass ratio = ', round(1/ratio, 3))\n",
    "                    print()\n",
    "                    num += 1\n",
    "\n",
    "            npID = tree['NextProgenitorID'][npIndex]\n",
    "\n",
    "            # count along full tree instead of just along the MPB? (non-standard)\n",
    "            if alongFullTree:\n",
    "                if tree['FirstProgenitorID'][npIndex] != -1:\n",
    "                    numSubtree = numMergers(tree, minMassRatio=minMassRatio, massPartType=massPartType, index=npIndex)\n",
    "                    num += numSubtree\n",
    "\n",
    "        fpID = tree['FirstProgenitorID'][fpIndex]\n",
    "\n",
    "    return num"
   ]
  },
  {
   "cell_type": "code",
   "execution_count": 23,
   "id": "df6ed76b-d85a-4304-8776-096ea394af6f",
   "metadata": {},
   "outputs": [
    {
     "name": "stdout",
     "output_type": "stream",
     "text": [
      "npidx, z =  11 7.005\n",
      "fpidx, z =  12 6.492\n",
      "mass ratio =  3.906\n",
      "\n",
      "npidx, z =  8 8.012\n",
      "fpidx, z =  9 7.595\n",
      "mass ratio =  6.371\n",
      "\n",
      "npidx, z =  1 14.989\n",
      "fpidx, z =  1 14.989\n",
      "mass ratio =  8.75\n",
      "\n",
      "npidx, z =  1 14.989\n",
      "fpidx, z =  1 14.989\n",
      "mass ratio =  7.203\n",
      "\n"
     ]
    },
    {
     "data": {
      "text/plain": [
       "4"
      ]
     },
     "execution_count": 23,
     "metadata": {},
     "output_type": "execute_result"
    }
   ],
   "source": [
    "listMergers(tree, 0.1, massPartNum=4)"
   ]
  },
  {
   "cell_type": "code",
   "execution_count": 41,
   "id": "d7a0c210-9426-4024-82d2-5109f5020f22",
   "metadata": {},
   "outputs": [
    {
     "name": "stderr",
     "output_type": "stream",
     "text": [
      "100%|██████████| 2345/2345 [01:02<00:00, 37.53it/s]\n"
     ]
    }
   ],
   "source": [
    "# def get_maxpastmass_sat(snapnum, subID):\n",
    "snapnum = 99\n",
    "subID = 392276\n",
    "if True:\n",
    "    sub = il.groupcat.loadSingle(TNGbase, snapnum, subhaloID=subID)\n",
    "    grpID = sub['SubhaloGrNr']\n",
    "    grp = il.groupcat.loadSingle(TNGbase, snapnum, haloID=grpID)\n",
    "    \n",
    "    subIDs_ofgrp = np.arange(grp['GroupFirstSub'], grp['GroupFirstSub']+grp['GroupNsubs'])\n",
    "    maxpastmass = np.zeros_like(subIDs_ofgrp, dtype=float)\n",
    "    \n",
    "    for i,subID_ in enumerate(tqdm(subIDs_ofgrp)):\n",
    "        tree_ = il.sublink.loadTree(TNGbase, snapnum, subID_, onlyMPB=True)\n",
    "        maxpastmass[i] = np.max(tree_['SubhaloMassType'][:,4])"
   ]
  },
  {
   "cell_type": "code",
   "execution_count": 47,
   "id": "efe3d8fb-ff2e-4dea-bf05-0082691434b7",
   "metadata": {},
   "outputs": [
    {
     "name": "stdout",
     "output_type": "stream",
     "text": [
      "[1.         0.57663204 0.37673053 0.07996716 0.04669543 0.01284725\n",
      " 0.01234276 0.01055629 0.00593234 0.00526202]\n"
     ]
    }
   ],
   "source": [
    "maxmass_sorted = np.flip(np.sort(maxpastmass))\n",
    "print((maxmass_sorted/maxmass_sorted[0])[:10])"
   ]
  },
  {
   "cell_type": "code",
   "execution_count": null,
   "id": "50436daa-c3ae-4ecc-b125-a3b22cbbc9a4",
   "metadata": {},
   "outputs": [],
   "source": []
  }
 ],
 "metadata": {
  "kernelspec": {
   "display_name": "note",
   "language": "python",
   "name": "note"
  },
  "language_info": {
   "codemirror_mode": {
    "name": "ipython",
    "version": 3
   },
   "file_extension": ".py",
   "mimetype": "text/x-python",
   "name": "python",
   "nbconvert_exporter": "python",
   "pygments_lexer": "ipython3",
   "version": "3.10.13"
  }
 },
 "nbformat": 4,
 "nbformat_minor": 5
}
