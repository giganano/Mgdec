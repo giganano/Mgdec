{
 "cells": [
  {
   "cell_type": "code",
   "execution_count": 1,
   "id": "3de7f833-1440-4731-8e6a-8b9c4e160b37",
   "metadata": {},
   "outputs": [],
   "source": [
    "import h5py as h5\n",
    "import arepo\n",
    "import numpy as np\n",
    "import matplotlib.pyplot as plt\n",
    "import matplotlib as mpl\n",
    "from tqdm import tqdm\n",
    "from scipy.interpolate import interp1d\n",
    "from scipy.stats import binned_statistic_2d\n",
    "from numba import njit\n",
    "from astropy.io import fits\n",
    "import astropy.coordinates as coord\n",
    "import astropy.units as u\n",
    "\n",
    "from joblib import Parallel,delayed\n",
    "\n",
    "basepath = '/n/holylfs05/LABS/hernquist_lab/Users/abeane/Mgdec/'\n",
    "\n",
    "import sys\n",
    "sys.path.append(basepath+'note/')\n",
    "\n",
    "import illustris_python as il\n",
    "TNGbase = '/n/holylfs05/LABS/hernquist_lab/IllustrisTNG/Runs/L35n2160TNG/output/'\n",
    "\n",
    "from lowda import load_galaxy\n",
    "import lowda as lwd\n",
    "from scipy.spatial import KDTree"
   ]
  },
  {
   "cell_type": "code",
   "execution_count": 2,
   "id": "831decac-8b35-4110-b685-b87ed940be3d",
   "metadata": {},
   "outputs": [],
   "source": [
    "def get_time(time, redshift=False, \n",
    "             Omega0=0.3089, \n",
    "             OmegaLambda=0.6911,\n",
    "             HubbleParam=0.6774):\n",
    "    HUBBLE = 3.2407789e-18\n",
    "    SEC_PER_MEGAYEAR = 3.15576e13\n",
    "    \n",
    "    if redshift:\n",
    "        a = 1./(1.+time)\n",
    "    else:\n",
    "        a = time\n",
    "    \n",
    "    fac = 2. / (3. * np.sqrt(OmegaLambda))\n",
    "    ans = fac * np.arcsinh(np.sqrt(a**3 * OmegaLambda/Omega0))\n",
    "\n",
    "    ans /= HUBBLE * HubbleParam\n",
    "    ans /= SEC_PER_MEGAYEAR * 1000\n",
    "    \n",
    "    return ans"
   ]
  },
  {
   "cell_type": "code",
   "execution_count": 3,
   "id": "8162bf98-766d-4d99-8325-7c6e43bf053e",
   "metadata": {},
   "outputs": [],
   "source": [
    "# Define a class to hold the header information\n",
    "class SnapshotHeader:\n",
    "    def __init__(self, header):\n",
    "        self.BoxSize = header.BoxSize\n",
    "        self.Composition_vector_length = header.Composition_vector_length\n",
    "        self.Flag_Cooling = header.Flag_Cooling\n",
    "        self.Flag_DoublePrecision = header.Flag_DoublePrecision\n",
    "        self.Flag_Feedback = header.Flag_Feedback\n",
    "        self.Flag_Metals = header.Flag_Metals\n",
    "        self.Flag_Sfr = header.Flag_Sfr\n",
    "        self.Flag_StellarAge = header.Flag_StellarAge\n",
    "        self.Git_commit = header.Git_commit\n",
    "        self.Git_date = header.Git_date\n",
    "        self.HubbleParam = header.HubbleParam\n",
    "        self.MassTable = header.MassTable\n",
    "        self.NumFilesPerSnapshot = header.NumFilesPerSnapshot\n",
    "        self.NumPart_ThisFile = header.NumPart_ThisFile\n",
    "        self.NumPart_Total = header.NumPart_Total\n",
    "        self.NumPart_Total_HighWord = header.NumPart_Total_HighWord\n",
    "        self.Omega0 = header.Omega0\n",
    "        self.OmegaBaryon = header.OmegaBaryon\n",
    "        self.OmegaLambda = header.OmegaLambda\n",
    "        self.Redshift = header.Redshift\n",
    "        self.Time = header.Time\n",
    "        self.UnitLength_in_cm = header.UnitLength_in_cm\n",
    "        self.UnitMass_in_g = header.UnitMass_in_g\n",
    "        self.UnitVelocity_in_cm_per_s = header.UnitVelocity_in_cm_per_s\n",
    "\n",
    "# Initialize the meta dictionary\n",
    "meta = {}\n",
    "meta['snap_list'] = np.arange(100)\n",
    "meta['header'] = []\n",
    "meta['redshift'] = []\n",
    "meta['scale_factor'] = []\n",
    "meta['time'] = []\n",
    "meta['time_lookback'] = []\n",
    "\n",
    "# Reference time\n",
    "t0 = get_time(1.)\n",
    "\n",
    "# Populate the meta dictionary with headers and other info for each snapshot\n",
    "for i in meta['snap_list']:\n",
    "    header = arepo.Snapshot(TNGbase, i, onlyHeader=True)\n",
    "    \n",
    "    # Create a new SnapshotHeader instance with the header data\n",
    "    header_info = SnapshotHeader(header)\n",
    "    \n",
    "    # Store header information in meta['header']\n",
    "    meta['header'].append(header_info)\n",
    "    \n",
    "    # Store other attributes in the respective arrays\n",
    "    meta['redshift'].append(header_info.Redshift)\n",
    "    meta['scale_factor'].append(header_info.Time)\n",
    "    meta['time'].append(get_time(header_info.Time))\n",
    "    meta['time_lookback'].append(t0 - get_time(header_info.Time))\n",
    "\n",
    "# Store HubbleParam as an example of accessing a header property\n",
    "meta['HubbleParam'] = meta['header'][0].HubbleParam\n",
    "\n",
    "# Convert lists to numpy arrays for numerical operations\n",
    "meta['redshift'] = np.array(meta['redshift'])\n",
    "meta['scale_factor'] = np.array(meta['scale_factor'])\n",
    "meta['time'] = np.array(meta['time'])\n",
    "meta['time_lookback'] = np.array(meta['time_lookback'])"
   ]
  },
  {
   "cell_type": "code",
   "execution_count": 4,
   "id": "5d87d956-43e8-4aff-bbec-5d277470d511",
   "metadata": {},
   "outputs": [],
   "source": [
    "@njit\n",
    "def rodrigues_formula(k, v, theta):\n",
    "    N = v.shape[0]\n",
    "    v_rot = np.zeros(np.shape(v))\n",
    "    \n",
    "    ctheta = np.cos(theta)\n",
    "    stheta = np.sin(theta)\n",
    "    \n",
    "    for i in range(N):\n",
    "        v_rot[i] = v[i] * ctheta + np.cross(k, v[i]) * stheta + k * (np.dot(k, v[i])) * (1-ctheta)\n",
    "    \n",
    "    return v_rot"
   ]
  },
  {
   "cell_type": "code",
   "execution_count": 5,
   "id": "f1c98434-b1d5-425e-866f-6928bf2a47b5",
   "metadata": {},
   "outputs": [],
   "source": [
    "def get_rot_pos_vel(subID, snapnum, ptype=4, rhalf_fac=2,\n",
    "                    k=None, theta=None, return_k_theta=False, key_rhalf=10, Nmin=4000):\n",
    "    # get COM, COMV, and ang mom of stars\n",
    "    # print('loading snapnum=', snapnum, 'subID=', subID)\n",
    "    subhalo = il.groupcat.loadSingle(TNGbase, snapnum, subhaloID=subID)\n",
    "    # print('done loading snapnum=', snapnum, 'subID=', subID)\n",
    "    # print('halfmass rad type=', subhalo['SubhaloHalfmassRadType'])\n",
    "    grpID = subhalo['SubhaloGrNr']\n",
    "    snap = {}\n",
    "    snap[4] = il.snapshot.loadHalo(TNGbase, snapnum, grpID, 4)\n",
    "    if ptype != 4:\n",
    "        snap[ptype] = il.snapshot.loadHalo(TNGbase, snapnum, grpID, ptype)\n",
    "    \n",
    "    COM = subhalo['SubhaloPos']\n",
    "    # print(np.median(snap[4]['Coordinates'], axis=0), COM)\n",
    "    \n",
    "    pos = snap[4]['Coordinates'] - COM\n",
    "    r = np.linalg.norm(pos, axis=1)\n",
    "    \n",
    "    rhalf = subhalo['SubhaloHalfmassRadType'][4]\n",
    "\n",
    "    in_rhalf = r < rhalf_fac * rhalf\n",
    "    is_star = snap[4]['GFM_StellarFormationTime'] > 0\n",
    "    is_star_in_rhalf = np.logical_and(is_star, in_rhalf)\n",
    "    \n",
    "    # for later, all stars in key_rhalf\n",
    "    rpt = np.linalg.norm(snap[ptype]['Coordinates'] - COM, axis=1)\n",
    "    in_key_rhalf = rpt < key_rhalf * rhalf\n",
    "    if ptype==4:\n",
    "        in_key_rhalf = np.logical_and(is_star, in_key_rhalf)\n",
    "    \n",
    "    if np.sum(is_star_in_rhalf) < Nmin:\n",
    "        return None, None, None, None\n",
    "    \n",
    "    vel_in_rhalf = snap[4]['Velocities'][is_star_in_rhalf]\n",
    "    mass_in_rhalf = snap[4]['Masses'][is_star_in_rhalf]\n",
    "    # print(rhalf, np.sum(is_star_in_rhalf), np.sum(mass_in_rhalf))\n",
    "    COMV = np.average(vel_in_rhalf, axis=0, weights=mass_in_rhalf)\n",
    "    \n",
    "    vel = snap[4]['Velocities'] - COMV\n",
    "    \n",
    "    ang = np.cross(pos[is_star_in_rhalf], vel[is_star_in_rhalf])\n",
    "    ang *= mass_in_rhalf.reshape(-1, 1)\n",
    "    ang = np.sum(ang, axis=0)\n",
    "    \n",
    "    ang_mom = ang\n",
    "\n",
    "    angmom_dir = ang_mom/np.linalg.norm(ang_mom)\n",
    "    if theta is None:\n",
    "        theta = np.arccos(np.dot(angmom_dir, np.array([0, 0, 1])))\n",
    "    if k is None:\n",
    "        k = np.cross(ang_mom, np.array([0, 0, 1.]))\n",
    "        k /= np.linalg.norm(k)\n",
    "    \n",
    "    pos = snap[ptype]['Coordinates'] - COM\n",
    "    vel = snap[ptype]['Velocities'] - COMV\n",
    "    mass = snap[ptype]['Masses']\n",
    "    \n",
    "    pos_rot = rodrigues_formula(k, pos.astype(np.float64), theta)\n",
    "    vel_rot = rodrigues_formula(k, vel.astype(np.float64), theta)\n",
    "    \n",
    "    pos_rot *= meta['header'][snapnum].Time/meta['header'][snapnum].HubbleParam\n",
    "    vel_rot *= np.sqrt(meta['header'][snapnum].Time)\n",
    "    \n",
    "    if return_k_theta:\n",
    "        return k, theta\n",
    "    \n",
    "    return pos_rot, vel_rot, mass, in_key_rhalf"
   ]
  },
  {
   "cell_type": "code",
   "execution_count": 41,
   "id": "0966fdfb-55c7-4a81-8950-c83d85b09583",
   "metadata": {},
   "outputs": [],
   "source": [
    "def mdot_eddington(bh_mass):\n",
    "    GRAVITY = 6.6738e-8\n",
    "    CLIGHT = 2.99792458e10\n",
    "    PROTONMASS = 1.67262178e-24\n",
    "    THOMPSON = 6.65245873e-25\n",
    "    UnitTime_in_s = meta['header'][99].UnitLength_in_cm / meta['header'][99].UnitVelocity_in_cm_per_s\n",
    "    \n",
    "    BlackHoleRadiativeEfficiency = 0.2\n",
    "    \n",
    "    ans = 4*np.pi * GRAVITY * CLIGHT * PROTONMASS / (BlackHoleRadiativeEfficiency * CLIGHT * CLIGHT * THOMPSON)\n",
    "    ans *= UnitTime_in_s / meta['header'][99].HubbleParam\n",
    "    ans *= np.copy(bh_mass)\n",
    "    \n",
    "    return ans"
   ]
  },
  {
   "cell_type": "code",
   "execution_count": 20,
   "id": "c0972413-d505-437c-ad3e-e22251de9bc9",
   "metadata": {},
   "outputs": [],
   "source": [
    "subID = 392276\n",
    "snapnum = 99"
   ]
  },
  {
   "cell_type": "code",
   "execution_count": 21,
   "id": "e8413cbd-586f-4bd5-b209-469edf8ddf0a",
   "metadata": {},
   "outputs": [],
   "source": [
    "subhalo = il.groupcat.loadSingle(TNGbase, snapnum, subhaloID=subID)\n",
    "group = il.groupcat.loadSingle(TNGbase, snapnum, haloID=subhalo['SubhaloGrNr'])"
   ]
  },
  {
   "cell_type": "code",
   "execution_count": 22,
   "id": "2aab5b3a-cd44-4b26-a38c-f764740ff8db",
   "metadata": {},
   "outputs": [
    {
     "data": {
      "text/plain": [
       "46"
      ]
     },
     "execution_count": 22,
     "metadata": {},
     "output_type": "execute_result"
    }
   ],
   "source": [
    "subhalo['SubhaloGrNr']"
   ]
  },
  {
   "cell_type": "code",
   "execution_count": 44,
   "id": "3645671e-c117-4d45-a9a5-57ef45d4d628",
   "metadata": {},
   "outputs": [
    {
     "name": "stderr",
     "output_type": "stream",
     "text": [
      "100%|██████████| 3/3 [00:00<00:00,  8.45it/s]\n"
     ]
    }
   ],
   "source": [
    "snap = {}\n",
    "fields = {}\n",
    "fields[0] = ['Coordinates', 'Masses', 'StarFormationRate']\n",
    "fields[4] = ['Coordinates', 'Masses']\n",
    "fields[5] = ['Coordinates', 'Masses', 'BH_Mdot', 'BH_MdotEddington']\n",
    "for pt in tqdm([0, 4, 5]):\n",
    "    snap[pt] = il.snapshot.loadHalo(TNGbase, snapnum, subhalo['SubhaloGrNr'], pt, fields=fields[pt])"
   ]
  },
  {
   "cell_type": "code",
   "execution_count": 12,
   "id": "51755caa-06fd-4465-8602-584a0263c9b3",
   "metadata": {},
   "outputs": [
    {
     "data": {
      "text/plain": [
       "496.94722403387493"
      ]
     },
     "execution_count": 12,
     "metadata": {},
     "output_type": "execute_result"
    }
   ],
   "source": [
    "group['Group_M_Mean200'] / meta['HubbleParam']"
   ]
  },
  {
   "cell_type": "code",
   "execution_count": 16,
   "id": "350bb006-804e-4a3f-a272-15f0204389e0",
   "metadata": {},
   "outputs": [
    {
     "data": {
      "text/plain": [
       "532.2841377359665"
      ]
     },
     "execution_count": 16,
     "metadata": {},
     "output_type": "execute_result"
    }
   ],
   "source": [
    "group['Group_R_Mean200']/meta['HubbleParam']"
   ]
  },
  {
   "cell_type": "code",
   "execution_count": 17,
   "id": "a252c8f8-39fb-4edf-9409-3273be5e6211",
   "metadata": {},
   "outputs": [
    {
     "data": {
      "text/plain": [
       "['SubhaloBHMass',\n",
       " 'SubhaloBHMdot',\n",
       " 'SubhaloBfldDisk',\n",
       " 'SubhaloBfldHalo',\n",
       " 'SubhaloCM',\n",
       " 'SubhaloFlag',\n",
       " 'SubhaloGasMetalFractions',\n",
       " 'SubhaloGasMetalFractionsHalfRad',\n",
       " 'SubhaloGasMetalFractionsMaxRad',\n",
       " 'SubhaloGasMetalFractionsSfr',\n",
       " 'SubhaloGasMetalFractionsSfrWeighted',\n",
       " 'SubhaloGasMetallicity',\n",
       " 'SubhaloGasMetallicityHalfRad',\n",
       " 'SubhaloGasMetallicityMaxRad',\n",
       " 'SubhaloGasMetallicitySfr',\n",
       " 'SubhaloGasMetallicitySfrWeighted',\n",
       " 'SubhaloGrNr',\n",
       " 'SubhaloHalfmassRad',\n",
       " 'SubhaloHalfmassRadType',\n",
       " 'SubhaloIDMostbound',\n",
       " 'SubhaloLen',\n",
       " 'SubhaloLenType',\n",
       " 'SubhaloMass',\n",
       " 'SubhaloMassInHalfRad',\n",
       " 'SubhaloMassInHalfRadType',\n",
       " 'SubhaloMassInMaxRad',\n",
       " 'SubhaloMassInMaxRadType',\n",
       " 'SubhaloMassInRad',\n",
       " 'SubhaloMassInRadType',\n",
       " 'SubhaloMassType',\n",
       " 'SubhaloParent',\n",
       " 'SubhaloPos',\n",
       " 'SubhaloSFR',\n",
       " 'SubhaloSFRinHalfRad',\n",
       " 'SubhaloSFRinMaxRad',\n",
       " 'SubhaloSFRinRad',\n",
       " 'SubhaloSpin',\n",
       " 'SubhaloStarMetalFractions',\n",
       " 'SubhaloStarMetalFractionsHalfRad',\n",
       " 'SubhaloStarMetalFractionsMaxRad',\n",
       " 'SubhaloStarMetallicity',\n",
       " 'SubhaloStarMetallicityHalfRad',\n",
       " 'SubhaloStarMetallicityMaxRad',\n",
       " 'SubhaloStellarPhotometrics',\n",
       " 'SubhaloStellarPhotometricsMassInRad',\n",
       " 'SubhaloStellarPhotometricsRad',\n",
       " 'SubhaloVel',\n",
       " 'SubhaloVelDisp',\n",
       " 'SubhaloVmax',\n",
       " 'SubhaloVmaxRad',\n",
       " 'SubhaloWindMass']"
      ]
     },
     "execution_count": 17,
     "metadata": {},
     "output_type": "execute_result"
    }
   ],
   "source": [
    "list(subhalo.keys())"
   ]
  },
  {
   "cell_type": "code",
   "execution_count": 33,
   "id": "35984a70-4c6d-4cdb-8aae-23266b3bdbcc",
   "metadata": {},
   "outputs": [
    {
     "name": "stdout",
     "output_type": "stream",
     "text": [
      "1.98503\n",
      "gasmass:  0.2561416339480071\n",
      "starmass: 7.564849757782153\n",
      "fg: 0.03275053265227331\n"
     ]
    }
   ],
   "source": [
    "# stellar and gas mass\n",
    "\n",
    "COM = subhalo['SubhaloPos']\n",
    "sthalfmass = subhalo['SubhaloHalfmassRadType'][4]\n",
    "print(sthalfmass)\n",
    "\n",
    "rdiff0 = np.linalg.norm(snap[0]['Coordinates'] - COM, axis=1)\n",
    "rdiff4 = np.linalg.norm(snap[4]['Coordinates'] - COM, axis=1)\n",
    "\n",
    "key0 = rdiff0 < 4 * sthalfmass\n",
    "key4 = rdiff4 < 4 * sthalfmass\n",
    "\n",
    "M0 = np.sum(snap[0]['Masses'][key0])/meta['HubbleParam']\n",
    "M4 = np.sum(snap[4]['Masses'][key4])/meta['HubbleParam']\n",
    "\n",
    "print('gasmass: ', M0)\n",
    "print('starmass:', M4)\n",
    "print('fg:', M0/(M0+M4))"
   ]
  },
  {
   "cell_type": "code",
   "execution_count": 36,
   "id": "31dc25fd-c5ed-45b3-86fe-8974dcdcf784",
   "metadata": {},
   "outputs": [
    {
     "data": {
      "text/plain": [
       "0.5620243"
      ]
     },
     "execution_count": 36,
     "metadata": {},
     "output_type": "execute_result"
    }
   ],
   "source": [
    "subhalo['SubhaloSFR']"
   ]
  },
  {
   "cell_type": "code",
   "execution_count": 45,
   "id": "67d45f9d-b3a5-479d-a129-98b11258f00f",
   "metadata": {},
   "outputs": [
    {
     "name": "stdout",
     "output_type": "stream",
     "text": [
      "[4.4763976e-05 8.8934976e-05 2.7939538e-04 7.1673311e-04 1.5576323e-03\n",
      " 2.1341494e-03 8.2967998e-03]\n"
     ]
    }
   ],
   "source": [
    "print(snap[5]['BH_Mdot'][0]/snap[5]['BH_MdotEddington'])"
   ]
  },
  {
   "cell_type": "code",
   "execution_count": null,
   "id": "3c5470f8-cc7d-472c-8692-ab88b1f709d7",
   "metadata": {},
   "outputs": [],
   "source": []
  }
 ],
 "metadata": {
  "kernelspec": {
   "display_name": "note",
   "language": "python",
   "name": "note"
  },
  "language_info": {
   "codemirror_mode": {
    "name": "ipython",
    "version": 3
   },
   "file_extension": ".py",
   "mimetype": "text/x-python",
   "name": "python",
   "nbconvert_exporter": "python",
   "pygments_lexer": "ipython3",
   "version": "3.10.13"
  }
 },
 "nbformat": 4,
 "nbformat_minor": 5
}
